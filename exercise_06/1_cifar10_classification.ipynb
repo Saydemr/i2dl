{
 "cells": [
  {
   "cell_type": "markdown",
   "metadata": {
    "id": "g6vUCiE_N5eU"
   },
   "source": [
    "# Cifar10 Classification"
   ]
  },
  {
   "cell_type": "markdown",
   "metadata": {
    "id": "X9ridWdTN5eY"
   },
   "source": [
    "Until now, we have implemented several pieces of a deep learning pipeline and trained a two-layer neural network, but all hyperparameters were pre-set to values yielding resonable results. However, in real problems a large part of the work will be geared towards finding the best hyperparameter settings for a certain problem. In this notebook we will explore some good practices for network debugging and hyperparameters search, as well as extending our binary classification neural network to a multi-class one.\n",
    "\n",
    "Let's go!"
   ]
  },
  {
   "cell_type": "markdown",
   "metadata": {
    "id": "4sTNILP7OCzb"
   },
   "source": [
    "## (Optional) Mount folder in Colab\n",
    "\n",
    "Uncomment the following cell to mount your gdrive if you are using the notebook in google colab:"
   ]
  },
  {
   "cell_type": "code",
   "execution_count": 1,
   "metadata": {
    "id": "JZmN1ATIN5eY"
   },
   "outputs": [
    {
     "ename": "ModuleNotFoundError",
     "evalue": "No module named 'matplotlib'",
     "output_type": "error",
     "traceback": [
      "\u001b[1;31m---------------------------------------------------------------------------\u001b[0m",
      "\u001b[1;31mModuleNotFoundError\u001b[0m                       Traceback (most recent call last)",
      "Cell \u001b[1;32mIn[1], line 2\u001b[0m\n\u001b[0;32m      1\u001b[0m \u001b[39m# Some lengthy setup.\u001b[39;00m\n\u001b[1;32m----> 2\u001b[0m \u001b[39mimport\u001b[39;00m \u001b[39mmatplotlib\u001b[39;00m\u001b[39m.\u001b[39;00m\u001b[39mpyplot\u001b[39;00m \u001b[39mas\u001b[39;00m \u001b[39mplt\u001b[39;00m\n\u001b[0;32m      3\u001b[0m \u001b[39mimport\u001b[39;00m \u001b[39mnumpy\u001b[39;00m \u001b[39mas\u001b[39;00m \u001b[39mnp\u001b[39;00m\n\u001b[0;32m      4\u001b[0m \u001b[39mimport\u001b[39;00m \u001b[39mos\u001b[39;00m\n",
      "\u001b[1;31mModuleNotFoundError\u001b[0m: No module named 'matplotlib'"
     ]
    }
   ],
   "source": [
    "# Some lengthy setup.\n",
    "import matplotlib.pyplot as plt\n",
    "import numpy as np\n",
    "import os\n",
    "import urllib.request\n",
    "\n",
    "from exercise_code.networks.layer import (\n",
    "    Sigmoid, \n",
    "    Relu, \n",
    "    LeakyRelu, \n",
    "    Tanh,\n",
    ")\n",
    "from exercise_code.data import (\n",
    "    DataLoader,\n",
    "    ImageFolderDataset,\n",
    "    MemoryImageFolderDataset,\n",
    "    RescaleTransform,\n",
    "    NormalizeTransform,\n",
    "    FlattenTransform,\n",
    "    ComposeTransform,\n",
    ")\n",
    "from exercise_code.data.image_folder_dataset import RandomHorizontalFlip\n",
    "from exercise_code.networks import (\n",
    "    ClassificationNet,\n",
    "    BCE,\n",
    "    CrossEntropyFromLogits\n",
    ")\n",
    "\n",
    "%load_ext autoreload\n",
    "%autoreload 2\n",
    "%matplotlib inline\n",
    "\n",
    "plt.rcParams['figure.figsize'] = (10.0, 8.0) # set default size of plots\n",
    "plt.rcParams['image.interpolation'] = 'nearest'\n",
    "plt.rcParams['image.cmap'] = 'gray'"
   ]
  },
  {
   "cell_type": "markdown",
   "metadata": {
    "id": "tRdaBwnMN5ea"
   },
   "source": [
    "# 1. Quick recap (and some new things)"
   ]
  },
  {
   "cell_type": "markdown",
   "metadata": {
    "id": "zsNrBTkyN5eb"
   },
   "source": [
    "Until now, in the previous exercises, we focused on building and understanding all the necessary modules for training a simple model. We followed the Pytorch implementations closely, as this is the framework we will use later and we wanted you to have a smoother transition to its APIs. \n",
    "\n",
    "In the figure below you can see the main components in Pytorch. Let's start with a quick recap of **our implementation** of these components. \n",
    "\n",
    "<div class=\"alert alert-success\">\n",
    "    <h3>Task: Check Code</h3>\n",
    "    <p>Everything is already implemented for this part, but we <b>strongly</b> encourage you to check  the respective source files in order to have a better understanding. </p>\n",
    "</div>"
   ]
  },
  {
   "cell_type": "markdown",
   "metadata": {
    "id": "reTr9-VRN5ec"
   },
   "source": [
    "<img src=\"https://cdn-images-1.medium.com/max/800/1*uZrS4KjAuSJQIJPgOiaJUg.png\" style=\"width: 500px;\">"
   ]
  },
  {
   "cell_type": "markdown",
   "metadata": {
    "id": "4fZoL6hvN5ec"
   },
   "source": [
    "## 1.1 Dataset and Dataloader"
   ]
  },
  {
   "cell_type": "markdown",
   "metadata": {
    "id": "jvv1QqmJN5ed"
   },
   "source": [
    "Data preparation is an important part of deep learning projects. Because the data can come in different formats and from different sources, it must be prepared in a certain way, which depends on the application. One part, however, is uniform: since an entire dataset is usually too large to handle at once, we train our models on smaller batches of data. \n",
    "\n",
    "The goal of the ```Dataset``` class is to encapsulate all the 'dirty' data processing: loading and cleaning the data, storing features (or names of files where features can be found) and labels, as well as providing the means for accessing individual (transformed) items of the data using the ```__getitem__()``` function and an index. You already implemented an ```ImageFolderDataset``` (in ```exercise_code/data/image_folder_dataset.py```) class in Exercise 3. We we will reuse this class here.\n",
    "\n",
    "For processing the data, you implemented several transforms in Exercise 3 (```RescaleTransform```, ```NormalizeTransform```, ```ComposeTransform```). In this exercise we are working with images, which are multidimensional arrays, but we are using a simple feedforward neural network which takes an one dimensional array as an input, so it is necessary to reshape the images before feeding them into the model. \n",
    "\n",
    "<div class=\"alert alert-success\">\n",
    "    <h3>Task: Check Code</h3>\n",
    "    <p>Please check the implementation of the reshape operation in the <code>FlattenTransform</code> class, which can be found in <code>../exercise_06/exercise_code/data/image_folder_dataset.py</code>. </p>\n",
    "</div>"
   ]
  },
  {
   "cell_type": "code",
   "execution_count": null,
   "metadata": {},
   "outputs": [],
   "source": [
    "download_url = \"https://i2dl.vc.in.tum.de/static/data/cifar10.zip\"\n",
    "i2dl_exercises_path = os.path.dirname(os.path.abspath(os.getcwd()))\n",
    "cifar_root = os.path.join(i2dl_exercises_path, \"datasets\", \"cifar10\")"
   ]
  },
  {
   "cell_type": "markdown",
   "metadata": {},
   "source": [
    "## The usual memory vs local data warning\n",
    "If you are using google colab or store your files on a local HDD, iterating over dataset takes quite some time and blablabla. You know the drill by now ;).\n",
    "\n",
    "<div class=\"alert alert-danger\">\n",
    "    <h3>Warning</h3>\n",
    "    <p>Loading the whole dataset into memory will not work if you are using a machine with 4GB of RAM or less (depending on your other programs such as memory hungry web browsers). Consider closing some open programs or simply use the local on-demand ImageFolderDataset.</p>\n",
    "    <p>In addition we want to warn you that everytime you execute a cell like \"dataset2 = MemoryImageFolderDataset...\" you are loading a 1.2GB matrix into your memory. If you do this often enough this notebook will crash on every machine. Therefore, we make sure to always use a single variable \"dataset\" which will be overwritten by future cells to avoid straining your memory too much.</p>\n",
    "</div>"
   ]
  },
  {
   "cell_type": "code",
   "execution_count": null,
   "metadata": {},
   "outputs": [],
   "source": [
    "# Choose your preferred dataset here\n",
    "\n",
    "# DATASET = ImageFolderDataset\n",
    "DATASET = MemoryImageFolderDataset"
   ]
  },
  {
   "cell_type": "markdown",
   "metadata": {},
   "source": [
    "Now that that is taken care of, back to the actual loading."
   ]
  },
  {
   "cell_type": "code",
   "execution_count": null,
   "metadata": {
    "id": "2fHY8xTPN5ee"
   },
   "outputs": [],
   "source": [
    "# Use the Cifar10 mean and standard deviation computed in Exercise 3.\n",
    "cifar_mean = np.array([0.49191375, 0.48235852, 0.44673872])\n",
    "cifar_std  = np.array([0.24706447, 0.24346213, 0.26147554])\n",
    "\n",
    "# Define all the transforms we will apply on the images when \n",
    "# retrieving them.\n",
    "rescale_transform = RescaleTransform()\n",
    "normalize_transform = NormalizeTransform(\n",
    "    mean=cifar_mean,\n",
    "    std=cifar_std\n",
    ")\n",
    "flatten_transform = FlattenTransform()\n",
    "compose_transform = ComposeTransform([rescale_transform, \n",
    "                                      normalize_transform,\n",
    "                                      flatten_transform])\n",
    "\n",
    "# Create a train, validation and test dataset.\n",
    "datasets = {}\n",
    "for mode in ['train', 'val', 'test']:\n",
    "    crt_dataset = DATASET(\n",
    "        mode=mode,\n",
    "        root=cifar_root, \n",
    "        transform=compose_transform,\n",
    "        split={'train': 0.6, 'val': 0.2, 'test': 0.2}\n",
    "    )\n",
    "    datasets[mode] = crt_dataset"
   ]
  },
  {
   "cell_type": "markdown",
   "metadata": {
    "id": "FsR4dM2kN5ee"
   },
   "source": [
    "Then, based on this ```Dataset``` object, we can construct a ```Dataloader``` object which samples a random mini-batch of data at once. "
   ]
  },
  {
   "cell_type": "code",
   "execution_count": null,
   "metadata": {
    "id": "3t4Xj_n3N5ef"
   },
   "outputs": [],
   "source": [
    "# Create a dataloader for each split.\n",
    "dataloaders = {}\n",
    "for mode in ['train', 'val', 'test']:\n",
    "    crt_dataloader = DataLoader(\n",
    "        dataset=datasets[mode],\n",
    "        batch_size=256,\n",
    "        shuffle=True,\n",
    "        drop_last=True,\n",
    "    )\n",
    "    dataloaders[mode] = crt_dataloader"
   ]
  },
  {
   "cell_type": "markdown",
   "metadata": {
    "id": "CpruSFLkN5ef"
   },
   "source": [
    "Because the ```Dataloader``` has the ```__iter__()``` method, we can simply iterate through the batches it produces, like this:\n",
    "\n",
    "```python\n",
    "for batch in dataloader['train']:\n",
    "    do_something(batch)\n",
    "```"
   ]
  },
  {
   "cell_type": "markdown",
   "metadata": {
    "id": "L81EGyslN5eg"
   },
   "source": [
    "## 1.2 Data Augmentation\n",
    "\n",
    "After the preprocessing steps, our data is in a good shape and ready to be fed into our network. As explained in the chapter above, we used the transformation functions `RescaleTransform`, `NormalizeTransform` and `FlattenTransform` to achieve this shape. These are the general steps that you need to perform on the data before you can start training. Of course, all these steps have to be applied to our three dataset splits (train, val and test split). In other words, preprocessing involves preparing the data before is can be used for training and inference. \n",
    "\n",
    "Besides these basic transformations, there are many other transformation methods that you can apply to the images. For example, you can <b>flip the images horizontally</b> or <b>blur the images</b> and use these new images to enlarge the dataset. This idea is called Data Augmentation and it involves methods that alter the training images to generate a synthetic dataset that is larger than your original dataset. This will hopefully improve the performance of your model. There is one important difference between data augmentation and data preprocessing: The transformation methods used to enlarge your dataset should only be applied to the training data. The validation and test data should not be affected by these methods.\n",
    "\n",
    "<div class=\"alert alert-success\">\n",
    "    <h3>Task: Check Code</h3>\n",
    "    <p>The choice of transformation methods for data augmentation can be seen as a hyperparameter of your model. You can try to include these to enlarge your training data and obtain better results for your model. In <code>exercise_code/data/image_folder_dataset.py</code> we implemented the function <code>RandomHorizontalFlip</code> for you, which is randomly flipping an image horizontally. Check out the implementation.</p>\n",
    "    <p> Later, we will perform hyperparameter tuning. In order to improve your model's performance, you can include some other data augmentation methods. Feel free to play around and to implement other methods as for example Gaussian Blur or Rotation. </p>       \n",
    "</div>\n",
    "\n",
    "Let us quickly check the `RandomHorizontalFlip` method with an image of the Cifar10 dataset in the following cell."
   ]
  },
  {
   "cell_type": "code",
   "execution_count": null,
   "metadata": {
    "colab": {
     "base_uri": "https://localhost:8080/",
     "height": 98
    },
    "executionInfo": {
     "elapsed": 962,
     "status": "ok",
     "timestamp": 1650011739465,
     "user": {
      "displayName": "Weber Anna",
      "userId": "18154618360144454414"
     },
     "user_tz": -120
    },
    "id": "3BEjmTGHN5eg",
    "outputId": "a6adee5b-1dd4-436c-e811-952f4ae12e5f"
   },
   "outputs": [
    {
     "data": {
      "image/png": "[encoded data removed]",
      "text/plain": [
       "<Figure size 200x200 with 2 Axes>"
      ]
     },
     "metadata": {},
     "output_type": "display_data"
    }
   ],
   "source": [
    "#Load the data in a dataset without any transformation \n",
    "dataset = DATASET(\n",
    "        mode=mode,\n",
    "        root=cifar_root, \n",
    "        download_url=download_url,\n",
    "        split={'train': 0.6, 'val': 0.2, 'test': 0.2},\n",
    "    )\n",
    "\n",
    "#Retrieve an image from the dataset and flip it\n",
    "image = dataset[1]['image']\n",
    "transform = RandomHorizontalFlip(1)\n",
    "image_flipped = transform(image)\n",
    "\n",
    "#Show the two images\n",
    "plt.figure(figsize = (2,2))\n",
    "plt.subplot(1, 2, 1)\n",
    "plt.imshow(image.astype('uint8'))\n",
    "plt.axis('off')\n",
    "plt.subplot(1, 2, 2)\n",
    "plt.imshow(image_flipped.astype('uint8'))\n",
    "plt.axis('off')\n",
    "plt.title(\"Left: Original Image, Right: Flipped image\")\n",
    "plt.show()"
   ]
  },
  {
   "cell_type": "markdown",
   "metadata": {
    "id": "WKNRU4BWN5eg"
   },
   "source": [
    "## 1.3 Layers\n",
    "\n",
    "Now, that the data is prepared, we can take a look at the model we are using. In our case it will be a neural network. \n",
    "\n",
    "In Exercise 5, you implemented a simple 2-layer neural network that had a hidden size as a parameter:\n",
    "\n",
    "$$ \n",
    "{\\hat{y}} = \\sigma(\\sigma({x W_1} + {b_1}) {W_2} + {b_2}) \n",
    "$$\n",
    "\n",
    "where $ \\sigma({x}) $ was the sigmoid function, $ {x} $ was the input, $ {W_1}, {W_2} $ the weight matrices and $ {b_1}, {b_2}$ the biases for the two layers.\n",
    "\n",
    "This is how we used this network:"
   ]
  },
  {
   "cell_type": "code",
   "execution_count": null,
   "metadata": {
    "id": "6zta7tzkN5eg"
   },
   "outputs": [],
   "source": [
    "input_size = datasets['train'][0]['image'].shape[0]\n",
    "model = ClassificationNet(input_size=input_size, \n",
    "                          hidden_size=512)"
   ]
  },
  {
   "cell_type": "markdown",
   "metadata": {
    "id": "UpAoXE7nN5eh"
   },
   "source": [
    "Note that we updated the ```ClassificationNet``` from the previous exercise. Now you can customize the number of outputs, the choice of activation function, the hidden size etc. We encourage you to check the implementation in ```exercise_code/networks/classification_net.py``` "
   ]
  },
  {
   "cell_type": "code",
   "execution_count": null,
   "metadata": {
    "id": "7wzEaw66N5eh"
   },
   "outputs": [],
   "source": [
    "num_layer = 2\n",
    "reg = 0.1\n",
    "\n",
    "model = ClassificationNet(activation=Sigmoid(), \n",
    "                          num_layer=num_layer, \n",
    "                          reg=reg,\n",
    "                          num_classes=10)"
   ]
  },
  {
   "cell_type": "markdown",
   "metadata": {
    "id": "x70gjgkDN5eh"
   },
   "source": [
    "Performing the forward and backward passes through the model was quite simple:\n",
    "\n",
    "```python\n",
    "\n",
    "# X is a batch of training features \n",
    "# X.shape = (batch_size, features_size)\n",
    "y_out = model.forward(X)\n",
    "\n",
    "# dout is the gradient of the loss function w.r.t the output of the network.\n",
    "# dout.shape = (batch_size, )\n",
    "model.backward(dout)\n",
    "```"
   ]
  },
  {
   "cell_type": "markdown",
   "metadata": {
    "id": "dlwNcT2RN5eh"
   },
   "source": [
    "Just as the learning rate or the number of epochs we want to train for, the number of hidden layers and the number of units in each hidden layer are also hyperparameters that we can tune. In this notebook you can play with networks of different sizes to see the impact that the network capacity has.\n",
    "\n",
    "Before we move on to the loss functions, let's have a look at the activation functions. The choice of an activation function can have a huge impact on the performance of the network you are designing. So far, you have implemented the `Sigmoid` and the `Relu` activation functions in Exercise 5. \n",
    "\n",
    "<div class=\"alert alert-success\">\n",
    "    <h3>Task: Check Code</h3>\n",
    "    <p>Take a look at the <code>Sigmoid</code> and the <code>Relu</code> class in <code>exercise_code/networks/layer.py</code> and the implementation of the respective forward and backward passes. Make sure to understand why we used <b>element-wise product</b> instead of dot product in the backward pass of the <code>Sigmoid</code> class to compute the gradient <code>dx</code>. That will be helpful for your later implementation of other activation functions.</p>\n",
    "    <p> <b>Note:</b> The <code>cache</code> variable is used to store information from the forward pass and then pass this information in the backward pass to make use of it there. The implementation of both classes shows that this variable can be used differently - depending on which information is needed in the backward pass. </p>\n",
    "</div>\n",
    "\n",
    "Now, we want to have a look at two other, very common activation functions that you have already seen in the lecture: Leaky ReLU activation function and Tanh activation function. \n",
    "\n",
    "**Leaky Relus** are one attempt to fix the “dying ReLU” problem. Instead of the function being zero when $ x < 0 $, a leaky ReLU has a small negative slope (for example, 0.01).  The function computes $f(x) = \\mathbb{1}(x < 0) (\\alpha x) + \\mathbb{1}(x>=0) (x)$ where $\\alpha$ is a small constant. Some people report success with this form of activation function, but the results are not always consistent.\n",
    "\n",
    "The **tanh non-linearity** squashes a real-valued number into the range [-1, 1]. Like the sigmoid neuron, its activations saturate, but unlike the sigmoid neuron its output is zero-centered. Therefore, in practice the tanh non-linearity is always preferred to the sigmoid non-linearity. Also note that the tanh neuron is simply a scaled sigmoid neuron, in particular the following holds: $\\tanh(x) = 2 \\cdot \\sigma(2x) -1$.\n",
    "\n",
    "<img class=left src=https://pytorch.org/docs/stable/_images/LeakyReLU.png alt=\"Figure3\" width=\"350\" align='left'/> \n",
    "<img class=right src=https://pytorch.org/docs/stable/_images/Tanh.png alt=\"Figure4\" width=\"350\"/>\n",
    "\n",
    "<div class=\"alert alert-info\">\n",
    "    <h3>Task: Implement Activation Layers</h3>\n",
    "    <p> Now, it is your turn to implement the <code>LeakyRelu</code> and the <code>Tanh</code> class in <code>exercise_code/networks/layer.py</code> by completing the <code>forward</code> and the <code>backward</code> functions. You can test your implementation in the following two cells. </p>\n",
    "    <p> <b>Note:</b> Always remember to return a cache in <code>forward</code> for later backpropagation in <code>backward</code>. As we have seen above, the <code>cache</code> variable can be used differently for two activation functions.</p>\n",
    "</div>\n",
    "\n",
    "Use this cell to test your implementation of the `LeakyRelu` class:"
   ]
  },
  {
   "cell_type": "code",
   "execution_count": null,
   "metadata": {
    "colab": {
     "base_uri": "https://localhost:8080/"
    },
    "executionInfo": {
     "elapsed": 854,
     "status": "ok",
     "timestamp": 1650011740634,
     "user": {
      "displayName": "Weber Anna",
      "userId": "18154618360144454414"
     },
     "user_tz": -120
    },
    "id": "v0LYvwHmN5ei",
    "outputId": "e124210f-f387-45b4-cd23-b0444c894b10"
   },
   "outputs": [
    {
     "name": "stdout",
     "output_type": "stream",
     "text": [
      "LeakyReluForwardTest passed.\n",
      "LeakyReluBackwardTest passed.\n",
      "Congratulations you have passed all the unit tests!!! Tests passed: 2/2\n",
      "Score: 100/100\n",
      "You secured a score of :100\n"
     ]
    }
   ],
   "source": [
    "from exercise_code.tests.layer_tests import *\n",
    "print(LeakyReluTestWrapper()())"
   ]
  },
  {
   "cell_type": "markdown",
   "metadata": {
    "id": "kOkiYhe_N5ei"
   },
   "source": [
    "And this cell to test your implementation of the `Tanh` class:"
   ]
  },
  {
   "cell_type": "code",
   "execution_count": null,
   "metadata": {
    "colab": {
     "base_uri": "https://localhost:8080/"
    },
    "executionInfo": {
     "elapsed": 11,
     "status": "ok",
     "timestamp": 1650011740635,
     "user": {
      "displayName": "Weber Anna",
      "userId": "18154618360144454414"
     },
     "user_tz": -120
    },
    "id": "Do-AHImrN5ei",
    "outputId": "b4c5a743-2ae6-4700-e052-4c9c4a220d08"
   },
   "outputs": [
    {
     "name": "stdout",
     "output_type": "stream",
     "text": [
      "TanhForwardTest passed.\n",
      "TanhBackwardTest passed.\n",
      "Congratulations you have passed all the unit tests!!! Tests passed: 2/2\n",
      "Score: 100/100\n",
      "You secured a score of :100\n"
     ]
    }
   ],
   "source": [
    "print(TanhTestWrapper()())"
   ]
  },
  {
   "cell_type": "markdown",
   "metadata": {
    "id": "Mw_iJW4dN5ej"
   },
   "source": [
    "Congratulations, you implemented four different activation functions! These activation layers are now ready to be used when you start building your own network."
   ]
  },
  {
   "cell_type": "markdown",
   "metadata": {
    "id": "3MhxqP2LN5ej"
   },
   "source": [
    "## 1.4 Loss\n",
    "\n",
    "In order to measure how well a network is performing, we implemented several ```Loss``` classes (```L1```, ```MSE```, ```BCE```, each preferred for a certain type of problems) in ```exercise_code/networks/loss.py```.\n",
    "\n",
    "Each contains a ```forward()``` method, which outputs a number we can use as a measure for our network's performance. \n",
    "\n",
    "Since our goal is to change the weights of the network in a way that this loss measure decreases, we are also interested in the gradients of the loss w.r.t the outputs of the network, $ \\nabla_{\\hat{y}} L({\\hat{y}}, {y}) $. This was implemented in ```backward()```. \n",
    "\n",
    "In previous exercises, we worked on binary classification problems and therefore used binary cross entropy (```BCE```) as a loss function.\n",
    "\n",
    "$$ BCE(\\hat{y}, y) = - \\frac{1}{N} \\sum_{i=1}^N \\Big [y_i \\log(\\hat{y_i}) + (1-y_i) \\log(1 - \\hat{y_i}) \\Big] $$ \n",
    "\n",
    "where\n",
    "- $ N $ was the number of samples we were considering\n",
    "- $\\hat{y}_i$ was the network's prediction for sample $i$. Note that this was a valid probability $\\in [0, 1]$, because we applied a [sigmoid](https://en.wikipedia.org/wiki/Sigmoid_function) activation on the last layer. \n",
    "- $ y_i $ was the ground truth label (0 or 1, depending on the class)\n",
    "\n",
    "Since we have 10 classes in the CIFAR10 dataset, we need a generalization of the binary cross entropy loss to multiple classes. This generalization is called the cross entropy loss and is defined as:\n",
    "$$ CE(\\hat{y}, y) = - \\frac{1}{N} \\sum_{i=1}^N \\sum_{k=1}^{C} \\Big[y_{ik} \\log(\\hat{y}_{ik}) \\Big] $$\n",
    "\n",
    "where:\n",
    "- $ N $ is the number of samples\n",
    "- $ C $ is the number of classes\n",
    "- $ \\hat{y}_{ik} $ is the probability that the model assigns for the $k$th class when the $i$th sample is the input. **Because we don't apply any activation function on the last layer of our network, its outputs for each sample will not be a valid probability distribution over the classes. We call these the raw outputs of the network '[logits](https://datascience.stackexchange.com/questions/31041/what-does-logits-in-machine-learning-mean/31045)' and we will apply a [softmax](https://en.wikipedia.org/wiki/Softmax_function) activation in order to obtain a valid probability distribution.** \n",
    "- $y_{ik} = 1 $ iff the true label of the $i$th sample is $k$ and 0 otherwise. This is called a [one-hot encoding](https://machinelearningmastery.com/why-one-hot-encode-data-in-machine-learning/).\n",
    "\n",
    "You can check for yourself that if the number of classes $ C $ is 2, the binary cross entropy is actually equivalent to the cross entropy.\n",
    "\n",
    "<div class=\"alert alert-success\">\n",
    "    <h3>Task: Check Code</h3>\n",
    "    <p>Please check the implementation of the <code>CrossEntropyFromLogits</code> class, which can be found in <code>../exercise_06/exercise_code/networks/loss.py</code>. </p>\n",
    "</div>"
   ]
  },
  {
   "cell_type": "code",
   "execution_count": null,
   "metadata": {
    "id": "EBPuFF0BN5ej"
   },
   "outputs": [],
   "source": [
    "loss = CrossEntropyFromLogits()"
   ]
  },
  {
   "cell_type": "markdown",
   "metadata": {
    "id": "y1HcQs25N5ek"
   },
   "source": [
    "We can simply get the results of the forward and backward passes as follows:"
   ]
  },
  {
   "cell_type": "markdown",
   "metadata": {
    "id": "Jv2aujOvN5ek"
   },
   "source": [
    "```python\n",
    "# y_out is the output of the neural network\n",
    "# y_truth is the actual label from the dataset\n",
    "loss.forward(y_out, y_truth)\n",
    "loss.backward(y_out, y_truth)\n",
    "```"
   ]
  },
  {
   "cell_type": "markdown",
   "metadata": {
    "id": "dbFSP4z9N5ek"
   },
   "source": [
    "## 1.5 Optimizer\n",
    "\n",
    "Now that we know the gradient of the loss w.r.t the ouputs of the network, as well as the local gradient for each layer of the network, we can use the chain rule to compute all gradients. \n",
    "\n",
    "<div class=\"alert alert-success\">\n",
    "    <h3>Task: Check Code</h3>\n",
    "    <p>We implemented several optimizer classes <code>SGD</code>, <code>Adam</code>, <code>sgd_momentum</code> that use different first-order parameter update rules. Those can be found in <code>../exercise_06/exercise_code/networks/optimizer.py</code>. </p>\n",
    "    <p>The <code>step()</code> method used, iterates through all the parameters of the model and updates them using the gradient information.</p>\n",
    "</div>\n",
    "\n",
    "What the optimizer is doing, in pseudocode, is the following:\n",
    "\n",
    "```python\n",
    "for param in model:\n",
    "    # Use the gradient to update the weights.\n",
    "    update(param)\n",
    "    \n",
    "    # Reset the gradient after each update.\n",
    "    param.gradient = 0\n",
    "```\n",
    "\n",
    "```SGD``` had the simplest update rule:\n",
    "```python\n",
    "def update(param):\n",
    "    param = param - learning_rate * param.gradient\n",
    "```\n",
    "\n",
    "For the more complicated update rules, see ```exercise_code/networks/optimizer.py```"
   ]
  },
  {
   "cell_type": "markdown",
   "metadata": {
    "id": "0TE2PxMBN5ek"
   },
   "source": [
    "## 1.6 Solver\n",
    "\n",
    "The ```Solver``` is where all the above elements come together: Given a train and a validation dataloader, a model, a loss and an optimizer, it uses the training data to optimize a model in order to get better predictions. We simply call ```train()``` and it does its 'magic' for us!\n",
    "```python\n",
    "solver = Solver(model, \n",
    "                dataloaders['train'], \n",
    "                dataloaders['val'], \n",
    "                learning_rate=0.001, \n",
    "                loss_func=MSE(), \n",
    "                optimizer=SGD)\n",
    "\n",
    "solver.train(epochs=epochs)\n",
    "```\n",
    "\n",
    "<div class=\"alert alert-success\">\n",
    "    <h3>Task: Check Code</h3>\n",
    "    <p>Please check out the implementation of <code>train()</code> in <code>../exercise_06/exercise_code/solver.py</code>. </p>\n",
    "</div>"
   ]
  },
  {
   "cell_type": "markdown",
   "metadata": {
    "id": "QUFotyERN5ek"
   },
   "source": [
    "## 1.7 Weight Regularization\n",
    "\n",
    "Before finishing the recap, we want to take a look at some regularization methods that have been introduced in the lecture. Those can be helpful to improve the robustness of our model. In this chapter, we're talking about weight regularization methods.\n",
    "\n",
    "Weight regularization (a.k.a \"Weight Decay\") has been introduced to you as a method preventing the model from overfitting to the training data. \n",
    "\n",
    "The regularization term over the weights of the network is added to the loss:\n",
    "\n",
    "$$ L^* = \\underbrace{L}_{\\text{Overall loss}} + \\underbrace{\\lambda R(\\theta)}_{\\text{Regularization loss}} $$\n",
    "\n",
    "where $\\theta$ represents **ALL** the weights of the network, $\\theta = \\{W_1, \\dots, W_n\\}$ and $R(\\theta) \\in \\mathbb{R}.$\n",
    "\n",
    "Therefore, the backward step for each weight matrix $W_k \\in  \\theta$ is: \n",
    "\n",
    "$$\\frac{\\partial L}{\\partial W_k}^* = \\underbrace{\\frac{\\partial L}{\\partial W_k}}_{\\text{Gradient}}  + \\underbrace{\\lambda \\frac{\\partial R(\\theta)}{\\partial W_k}}_{\\text{Reg. loss gradient}}$$\n",
    "\n",
    "The usage of the regularization term encodes some preferences in manipulating the weights. In the lecture, we compared two weight regularization methods and their respective preference for weight vectors. We made the following observations: \n",
    "\n",
    "1. L1 regularization: Enforces sparsity \n",
    "2. L2 regularization: Enforces that weights have similar values\n",
    "\n",
    "The most common weight regularization method is the L2 regularization. The L2 regularization prefers smaller and more diffuse weight vectors. Therefore, the model is encouraged to take all input dimensions into account rather than focusing strongly on a small number of input dimensions.\n",
    "\n",
    "When using weight regularization, the loss function is a composition of two parts:\n",
    "\n",
    "The first being the data loss, which is calculated using Cross Entropy loss in our model. The second part is called the regularization loss $R(\\theta)$ and is computed in the L2 case as follows:\n",
    "$$R(\\theta) = \\sum_{k} \\sum_{i} \\sum_{j} w_{k,i,j}^2$$\n",
    "\n",
    "Where $k$ runs over all weight matrices in the network, and $i, j$ correspond to the spatial height and width of each weight matrix $W_k$."
   ]
  },
  {
   "cell_type": "markdown",
   "metadata": {
    "id": "DxExi4hQN5el"
   },
   "source": [
    "# 2. An overview of hyperparameters"
   ]
  },
  {
   "cell_type": "markdown",
   "metadata": {
    "collapsed": true,
    "id": "OdQde3JEN5el"
   },
   "source": [
    "\n",
    "<img src=https://images.deepai.org/glossary-terms/05c646fe1676490aa0b8cab0732a02b2/hyperparams.png alt=hyperparameter width=700>\n",
    "\n",
    "A **hyperparameter** is a parameter that is set before the learning process begins. Recall that the parameters of the weight matrix and the bias vector are learned during the learning process.\n",
    "\n",
    "The hyperparameter settings are essential, since they control and affect the whole training and therefore have a great impact on the model's performance. \n",
    "\n",
    "Some hyperparameters we have covered in lectures are:\n",
    "* Network architecture\n",
    "    * Choice of activation function\n",
    "    * Number of layers\n",
    "    * ...\n",
    "* Learning rate\n",
    "* Number of epochs\n",
    "* Batch size\n",
    "* Regularization strength\n",
    "* Momentum\n",
    "* ..."
   ]
  },
  {
   "cell_type": "markdown",
   "metadata": {
    "id": "Rn6g8Zw1N5el"
   },
   "source": [
    "## 2.1 Start debugging your own network!"
   ]
  },
  {
   "cell_type": "markdown",
   "metadata": {
    "id": "hUoj3OgzN5el"
   },
   "source": [
    "As already suggested in the lectures, you should always start from small and simple architectures, to make sure you are going the right way. \n",
    "\n",
    "As a first step you should try to overfit to a single training sample, then to a few batches of training samples and finally go deeper with larger neural networks and the whole training data.\n",
    "\n",
    "We provide a default neural network (i.e. ClassificationNet) with arbitrary number of layers, which is a generalization from a fixed 2-layer neural network in exercise 5. You are welcome to implement your own network, in that case just implement **MyOwnNetwork** in ```exercise_code/networks/classification_net.py```. You can also copy things from ClassficationNet and make little adjustments to your own network. Either way, just pick one network and comment out the other one, then run the cells below for debugging.\n",
    "\n",
    "<div class=\"alert alert-warning\">\n",
    "    <h3>Note:</h3>\n",
    "    <p>Please, make sure you don't modify the ClassificationNet itself. In this way you can always have a working network to fall back on.</p>\n",
    "    <p>In order to pass this submissions, you can <b>first stick to the default ClassificationNet implementation without changing any code at all</b>. The goal of this submission is to find reasonable hyperparameters and the parameter options of the ClassificationNet are broad enough to pass.</p>\n",
    "    <p>Once you have surpassed the submission goal, you can try to implement additional activation functions in the accompanying notebook, try different weight initializations or make other adjustments by writing your own network architecture in the MyOwnNetwork class.</p>\n",
    "</div>"
   ]
  },
  {
   "cell_type": "markdown",
   "metadata": {
    "id": "gij9DxvmN5el"
   },
   "source": [
    "First, let's start with a 2-layer neural network, and overfit to one single training sample.\n",
    "\n",
    "After training, let's evaluate the training process by plotting the loss curves."
   ]
  },
  {
   "cell_type": "code",
   "execution_count": null,
   "metadata": {
    "colab": {
     "base_uri": "https://localhost:8080/"
    },
    "executionInfo": {
     "elapsed": 20902,
     "status": "ok",
     "timestamp": 1650011761531,
     "user": {
      "displayName": "Weber Anna",
      "userId": "18154618360144454414"
     },
     "user_tz": -120
    },
    "id": "S1k3JrlsN5el",
    "outputId": "1193ba97-9871-489f-d6a5-f21a3869f09c"
   },
   "outputs": [
    {
     "name": "stdout",
     "output_type": "stream",
     "text": [
      "(Epoch 1 / 20) train loss: 2.327992; val loss: 2.333577\n",
      "(Epoch 2 / 20) train loss: 2.327992; val loss: 2.320803\n",
      "(Epoch 3 / 20) train loss: 2.201901; val loss: 2.329869\n",
      "(Epoch 4 / 20) train loss: 2.052337; val loss: 2.355061\n",
      "(Epoch 5 / 20) train loss: 1.881469; val loss: 2.387624\n",
      "(Epoch 6 / 20) train loss: 1.711020; val loss: 2.419109\n",
      "(Epoch 7 / 20) train loss: 1.556224; val loss: 2.443894\n",
      "(Epoch 8 / 20) train loss: 1.413779; val loss: 2.460766\n",
      "(Epoch 9 / 20) train loss: 1.277494; val loss: 2.472060\n",
      "(Epoch 10 / 20) train loss: 1.146821; val loss: 2.481483\n",
      "(Epoch 11 / 20) train loss: 1.022606; val loss: 2.492313\n",
      "(Epoch 12 / 20) train loss: 0.906329; val loss: 2.506576\n",
      "(Epoch 13 / 20) train loss: 0.800357; val loss: 2.524869\n",
      "(Epoch 14 / 20) train loss: 0.706310; val loss: 2.546673\n",
      "(Epoch 15 / 20) train loss: 0.624434; val loss: 2.571004\n",
      "(Epoch 16 / 20) train loss: 0.553740; val loss: 2.596932\n",
      "(Epoch 17 / 20) train loss: 0.492828; val loss: 2.623857\n",
      "(Epoch 18 / 20) train loss: 0.440498; val loss: 2.651549\n",
      "(Epoch 19 / 20) train loss: 0.395530; val loss: 2.680034\n",
      "(Epoch 20 / 20) train loss: 0.356914; val loss: 2.709408\n"
     ]
    }
   ],
   "source": [
    "from exercise_code.solver import Solver\n",
    "from exercise_code.networks.optimizer import SGD, Adam\n",
    "from exercise_code.networks import MyOwnNetwork\n",
    "\n",
    "num_layer = 2\n",
    "epochs = 20\n",
    "reg = 0.1\n",
    "batch_size = 4\n",
    "\n",
    "model = ClassificationNet(num_layer=num_layer, reg=reg)\n",
    "# model = MyOwnNetwork()\n",
    "\n",
    "loss = CrossEntropyFromLogits()\n",
    "\n",
    "# Make a new data loader with a single training image\n",
    "overfit_dataset = DATASET(\n",
    "    mode='train',\n",
    "    root=cifar_root, \n",
    "    download_url=download_url,\n",
    "    transform=compose_transform,\n",
    "    limit_files=1\n",
    ")\n",
    "dataloaders['train_overfit_single_image'] = DataLoader(\n",
    "    dataset=overfit_dataset,\n",
    "    batch_size=batch_size,\n",
    "    shuffle=True,\n",
    "    drop_last=False,\n",
    ")\n",
    "\n",
    "# Decrease validation data for only debugging\n",
    "debugging_validation_dataset = DATASET(\n",
    "    mode='val',\n",
    "    root=cifar_root, \n",
    "    download_url=download_url,\n",
    "    transform=compose_transform,\n",
    "    limit_files=100\n",
    ")\n",
    "dataloaders['val_500files'] = DataLoader(\n",
    "    dataset=debugging_validation_dataset,\n",
    "    batch_size=batch_size,\n",
    "    shuffle=True,\n",
    "    drop_last=True,\n",
    ")\n",
    "\n",
    "solver = Solver(model, dataloaders['train_overfit_single_image'], dataloaders['val_500files'], \n",
    "                learning_rate=1e-3, loss_func=loss, optimizer=Adam)\n",
    "\n",
    "solver.train(epochs=epochs)"
   ]
  },
  {
   "cell_type": "code",
   "execution_count": null,
   "metadata": {
    "colab": {
     "base_uri": "https://localhost:8080/"
    },
    "executionInfo": {
     "elapsed": 434,
     "status": "ok",
     "timestamp": 1650011761941,
     "user": {
      "displayName": "Weber Anna",
      "userId": "18154618360144454414"
     },
     "user_tz": -120
    },
    "id": "aMc51VqHN5em",
    "outputId": "730d9eb6-6b24-4411-e6b9-c165a73a7e6e"
   },
   "outputs": [
    {
     "data": {
      "image/png": "[encoded data removed]",
      "text/plain": [
       "<Figure size 1000x800 with 1 Axes>"
      ]
     },
     "metadata": {},
     "output_type": "display_data"
    }
   ],
   "source": [
    "plt.title('Loss curves')\n",
    "plt.plot(solver.train_loss_history, '-', label='train')\n",
    "plt.plot(solver.val_loss_history, '-', label='val')\n",
    "plt.legend(loc='lower right')\n",
    "plt.xlabel('Iteration')\n",
    "plt.show()"
   ]
  },
  {
   "cell_type": "code",
   "execution_count": null,
   "metadata": {
    "colab": {
     "base_uri": "https://localhost:8080/"
    },
    "executionInfo": {
     "elapsed": 244,
     "status": "ok",
     "timestamp": 1650011762177,
     "user": {
      "displayName": "Weber Anna",
      "userId": "18154618360144454414"
     },
     "user_tz": -120
    },
    "id": "cchvV2Q_N5em",
    "outputId": "6ba579ba-58ed-43e8-f3e7-97a51018ee4b"
   },
   "outputs": [
    {
     "name": "stdout",
     "output_type": "stream",
     "text": [
      "Training accuray: 1.00000\n",
      "Validation accuray: 0.07000\n"
     ]
    }
   ],
   "source": [
    "print(\"Training accuray: %.5f\" % (solver.get_dataset_accuracy(dataloaders['train_overfit_single_image'])))\n",
    "print(\"Validation accuray: %.5f\" % (solver.get_dataset_accuracy(dataloaders['val_500files'])))"
   ]
  },
  {
   "cell_type": "markdown",
   "metadata": {
    "id": "HeTCu8wwN5em"
   },
   "source": [
    "This time we want to overfit to a small set of training batch samples. Please observe the difference from above. "
   ]
  },
  {
   "cell_type": "code",
   "execution_count": null,
   "metadata": {
    "colab": {
     "base_uri": "https://localhost:8080/"
    },
    "executionInfo": {
     "elapsed": 32205,
     "status": "ok",
     "timestamp": 1650011794379,
     "user": {
      "displayName": "Weber Anna",
      "userId": "18154618360144454414"
     },
     "user_tz": -120
    },
    "id": "SsIu_JaUN5em",
    "outputId": "81810746-ea3e-4a60-f3b7-dad4230c7231"
   },
   "outputs": [
    {
     "name": "stdout",
     "output_type": "stream",
     "text": [
      "(Epoch 1 / 250) train loss: 2.331938; val loss: 2.334331\n",
      "(Epoch 2 / 250) train loss: 2.325609; val loss: 2.337541\n",
      "(Epoch 3 / 250) train loss: 2.207519; val loss: 2.391639\n",
      "(Epoch 4 / 250) train loss: 2.048381; val loss: 2.439445\n",
      "(Epoch 5 / 250) train loss: 2.048479; val loss: 2.522273\n",
      "(Epoch 6 / 250) train loss: 1.925998; val loss: 2.566617\n",
      "(Epoch 7 / 250) train loss: 1.857588; val loss: 2.628791\n",
      "(Epoch 8 / 250) train loss: 1.725757; val loss: 2.711391\n",
      "(Epoch 9 / 250) train loss: 1.752357; val loss: 2.795958\n",
      "(Epoch 10 / 250) train loss: 1.810925; val loss: 2.842225\n",
      "(Epoch 11 / 250) train loss: 1.718056; val loss: 2.855684\n",
      "(Epoch 12 / 250) train loss: 1.646908; val loss: 2.979115\n",
      "(Epoch 13 / 250) train loss: 1.625130; val loss: 3.089495\n",
      "(Epoch 14 / 250) train loss: 1.672408; val loss: 3.119818\n",
      "(Epoch 15 / 250) train loss: 1.598648; val loss: 3.084452\n",
      "(Epoch 16 / 250) train loss: 1.674407; val loss: 3.100027\n",
      "(Epoch 17 / 250) train loss: 1.714083; val loss: 3.168348\n",
      "(Epoch 18 / 250) train loss: 1.656148; val loss: 3.252408\n",
      "(Epoch 19 / 250) train loss: 1.739993; val loss: 3.245475\n",
      "(Epoch 20 / 250) train loss: 1.561257; val loss: 3.253790\n",
      "(Epoch 21 / 250) train loss: 1.540376; val loss: 3.314405\n",
      "(Epoch 22 / 250) train loss: 1.646614; val loss: 3.308773\n",
      "(Epoch 23 / 250) train loss: 1.581151; val loss: 3.302904\n",
      "(Epoch 24 / 250) train loss: 1.422976; val loss: 3.371343\n",
      "(Epoch 25 / 250) train loss: 1.562293; val loss: 3.425782\n",
      "(Epoch 26 / 250) train loss: 1.647568; val loss: 3.397219\n",
      "(Epoch 27 / 250) train loss: 1.467402; val loss: 3.377734\n",
      "(Epoch 28 / 250) train loss: 1.495070; val loss: 3.354369\n",
      "(Epoch 29 / 250) train loss: 1.588650; val loss: 3.382466\n",
      "(Epoch 30 / 250) train loss: 1.483492; val loss: 3.407889\n",
      "(Epoch 31 / 250) train loss: 1.515264; val loss: 3.393643\n",
      "(Epoch 32 / 250) train loss: 1.466285; val loss: 3.401993\n",
      "(Epoch 33 / 250) train loss: 1.423159; val loss: 3.425434\n",
      "(Epoch 34 / 250) train loss: 1.400972; val loss: 3.430258\n",
      "(Epoch 35 / 250) train loss: 1.348053; val loss: 3.429814\n",
      "(Epoch 36 / 250) train loss: 1.329759; val loss: 3.433689\n",
      "(Epoch 37 / 250) train loss: 1.288834; val loss: 3.455196\n",
      "(Epoch 38 / 250) train loss: 1.348734; val loss: 3.464836\n",
      "(Epoch 39 / 250) train loss: 1.260980; val loss: 3.498036\n",
      "(Epoch 40 / 250) train loss: 1.358767; val loss: 3.473409\n",
      "(Epoch 41 / 250) train loss: 1.390493; val loss: 3.433425\n",
      "(Epoch 42 / 250) train loss: 1.292045; val loss: 3.491149\n",
      "(Epoch 43 / 250) train loss: 1.268652; val loss: 3.539978\n",
      "(Epoch 44 / 250) train loss: 1.330824; val loss: 3.513853\n",
      "(Epoch 45 / 250) train loss: 1.287729; val loss: 3.509725\n",
      "(Epoch 46 / 250) train loss: 1.290267; val loss: 3.519821\n",
      "(Epoch 47 / 250) train loss: 1.172291; val loss: 3.522474\n",
      "(Epoch 48 / 250) train loss: 1.195694; val loss: 3.491398\n",
      "(Epoch 49 / 250) train loss: 1.170439; val loss: 3.480601\n",
      "(Epoch 50 / 250) train loss: 1.119711; val loss: 3.482389\n",
      "(Epoch 51 / 250) train loss: 1.257560; val loss: 3.513039\n",
      "(Epoch 52 / 250) train loss: 1.181583; val loss: 3.600747\n",
      "(Epoch 53 / 250) train loss: 1.283340; val loss: 3.644795\n",
      "(Epoch 54 / 250) train loss: 1.265615; val loss: 3.624526\n",
      "(Epoch 55 / 250) train loss: 1.159158; val loss: 3.576834\n",
      "(Epoch 56 / 250) train loss: 1.182414; val loss: 3.551872\n",
      "(Epoch 57 / 250) train loss: 1.105850; val loss: 3.560429\n",
      "(Epoch 58 / 250) train loss: 1.130616; val loss: 3.571432\n",
      "(Epoch 59 / 250) train loss: 1.134558; val loss: 3.574873\n",
      "(Epoch 60 / 250) train loss: 1.027422; val loss: 3.568672\n",
      "(Epoch 61 / 250) train loss: 1.027777; val loss: 3.541614\n",
      "(Epoch 62 / 250) train loss: 1.071632; val loss: 3.526807\n",
      "(Epoch 63 / 250) train loss: 1.000724; val loss: 3.545189\n",
      "(Epoch 64 / 250) train loss: 1.001871; val loss: 3.569452\n",
      "(Epoch 65 / 250) train loss: 1.005035; val loss: 3.568322\n",
      "(Epoch 66 / 250) train loss: 1.012345; val loss: 3.581639\n",
      "(Epoch 67 / 250) train loss: 1.031481; val loss: 3.623874\n",
      "(Epoch 68 / 250) train loss: 1.022743; val loss: 3.655385\n",
      "(Epoch 69 / 250) train loss: 1.002597; val loss: 3.638895\n",
      "(Epoch 70 / 250) train loss: 1.047481; val loss: 3.595655\n",
      "(Epoch 71 / 250) train loss: 1.074237; val loss: 3.591181\n",
      "(Epoch 72 / 250) train loss: 1.023344; val loss: 3.627247\n",
      "(Epoch 73 / 250) train loss: 0.985536; val loss: 3.649597\n",
      "(Epoch 74 / 250) train loss: 0.956673; val loss: 3.626058\n",
      "(Epoch 75 / 250) train loss: 0.953968; val loss: 3.563884\n",
      "(Epoch 76 / 250) train loss: 0.932819; val loss: 3.543700\n",
      "(Epoch 77 / 250) train loss: 0.907463; val loss: 3.561685\n",
      "(Epoch 78 / 250) train loss: 0.920114; val loss: 3.581150\n",
      "(Epoch 79 / 250) train loss: 0.902032; val loss: 3.603120\n",
      "(Epoch 80 / 250) train loss: 0.899427; val loss: 3.566424\n",
      "(Epoch 81 / 250) train loss: 0.928899; val loss: 3.577112\n",
      "(Epoch 82 / 250) train loss: 0.924480; val loss: 3.587221\n",
      "(Epoch 83 / 250) train loss: 0.964044; val loss: 3.580696\n",
      "(Epoch 84 / 250) train loss: 0.874808; val loss: 3.583204\n",
      "(Epoch 85 / 250) train loss: 0.938830; val loss: 3.587788\n",
      "(Epoch 86 / 250) train loss: 0.853180; val loss: 3.594803\n",
      "(Epoch 87 / 250) train loss: 0.909091; val loss: 3.579225\n",
      "(Epoch 88 / 250) train loss: 0.899377; val loss: 3.540678\n",
      "(Epoch 89 / 250) train loss: 0.877273; val loss: 3.561657\n",
      "(Epoch 90 / 250) train loss: 0.851209; val loss: 3.592029\n",
      "(Epoch 91 / 250) train loss: 0.860576; val loss: 3.592714\n",
      "(Epoch 92 / 250) train loss: 0.917568; val loss: 3.586197\n",
      "(Epoch 93 / 250) train loss: 0.916384; val loss: 3.648954\n",
      "(Epoch 94 / 250) train loss: 1.027391; val loss: 3.628603\n",
      "(Epoch 95 / 250) train loss: 0.898212; val loss: 3.659187\n",
      "(Epoch 96 / 250) train loss: 0.937496; val loss: 3.673554\n",
      "(Epoch 97 / 250) train loss: 0.982593; val loss: 3.657673\n",
      "(Epoch 98 / 250) train loss: 0.895751; val loss: 3.655952\n",
      "(Epoch 99 / 250) train loss: 0.840275; val loss: 3.596174\n",
      "(Epoch 100 / 250) train loss: 0.906998; val loss: 3.558889\n",
      "(Epoch 101 / 250) train loss: 0.877036; val loss: 3.569467\n",
      "(Epoch 102 / 250) train loss: 0.910354; val loss: 3.572435\n",
      "(Epoch 103 / 250) train loss: 0.814440; val loss: 3.546418\n",
      "(Epoch 104 / 250) train loss: 0.885796; val loss: 3.513039\n",
      "(Epoch 105 / 250) train loss: 0.816405; val loss: 3.528076\n",
      "(Epoch 106 / 250) train loss: 1.010773; val loss: 3.574938\n",
      "(Epoch 107 / 250) train loss: 0.916906; val loss: 3.803623\n",
      "(Epoch 108 / 250) train loss: 1.111099; val loss: 3.850567\n",
      "(Epoch 109 / 250) train loss: 1.042575; val loss: 3.850491\n",
      "(Epoch 110 / 250) train loss: 1.060720; val loss: 3.814949\n",
      "(Epoch 111 / 250) train loss: 0.992984; val loss: 3.771788\n",
      "(Epoch 112 / 250) train loss: 0.930072; val loss: 3.723391\n",
      "(Epoch 113 / 250) train loss: 0.916937; val loss: 3.666048\n",
      "(Epoch 114 / 250) train loss: 0.836462; val loss: 3.638190\n",
      "(Epoch 115 / 250) train loss: 0.889796; val loss: 3.591241\n",
      "(Epoch 116 / 250) train loss: 0.818503; val loss: 3.556719\n",
      "(Epoch 117 / 250) train loss: 0.806898; val loss: 3.529216\n",
      "(Epoch 118 / 250) train loss: 0.849701; val loss: 3.518428\n",
      "(Epoch 119 / 250) train loss: 0.850689; val loss: 3.562668\n",
      "(Epoch 120 / 250) train loss: 0.842383; val loss: 3.619849\n",
      "(Epoch 121 / 250) train loss: 0.814835; val loss: 3.621091\n",
      "(Epoch 122 / 250) train loss: 0.807930; val loss: 3.575001\n",
      "(Epoch 123 / 250) train loss: 0.785612; val loss: 3.524536\n",
      "(Epoch 124 / 250) train loss: 0.795686; val loss: 3.500472\n",
      "(Epoch 125 / 250) train loss: 0.806721; val loss: 3.517049\n",
      "(Epoch 126 / 250) train loss: 0.793731; val loss: 3.564774\n",
      "(Epoch 127 / 250) train loss: 0.804540; val loss: 3.557030\n",
      "(Epoch 128 / 250) train loss: 0.775205; val loss: 3.540857\n",
      "(Epoch 129 / 250) train loss: 0.767131; val loss: 3.546941\n",
      "(Epoch 130 / 250) train loss: 0.810578; val loss: 3.561842\n",
      "(Epoch 131 / 250) train loss: 0.786076; val loss: 3.589078\n",
      "(Epoch 132 / 250) train loss: 0.783697; val loss: 3.589728\n",
      "(Epoch 133 / 250) train loss: 0.821126; val loss: 3.548807\n",
      "(Epoch 134 / 250) train loss: 0.790377; val loss: 3.552377\n",
      "(Epoch 135 / 250) train loss: 0.881686; val loss: 3.609671\n",
      "(Epoch 136 / 250) train loss: 0.831718; val loss: 3.739862\n",
      "(Epoch 137 / 250) train loss: 0.847444; val loss: 3.783653\n",
      "(Epoch 138 / 250) train loss: 0.834472; val loss: 3.730899\n",
      "(Epoch 139 / 250) train loss: 0.794187; val loss: 3.668547\n",
      "(Epoch 140 / 250) train loss: 0.780067; val loss: 3.616526\n",
      "(Epoch 141 / 250) train loss: 0.779698; val loss: 3.568906\n",
      "(Epoch 142 / 250) train loss: 0.787000; val loss: 3.541550\n",
      "(Epoch 143 / 250) train loss: 0.766881; val loss: 3.558284\n",
      "(Epoch 144 / 250) train loss: 0.803021; val loss: 3.587206\n",
      "(Epoch 145 / 250) train loss: 0.773339; val loss: 3.613601\n",
      "(Epoch 146 / 250) train loss: 0.801500; val loss: 3.609048\n",
      "(Epoch 147 / 250) train loss: 0.775126; val loss: 3.614348\n",
      "(Epoch 148 / 250) train loss: 0.778844; val loss: 3.610526\n",
      "(Epoch 149 / 250) train loss: 0.796415; val loss: 3.583842\n",
      "(Epoch 150 / 250) train loss: 0.751581; val loss: 3.581504\n",
      "(Epoch 151 / 250) train loss: 0.765140; val loss: 3.614690\n",
      "(Epoch 152 / 250) train loss: 0.761808; val loss: 3.594061\n",
      "(Epoch 153 / 250) train loss: 0.753824; val loss: 3.578165\n",
      "(Epoch 154 / 250) train loss: 0.726522; val loss: 3.556799\n",
      "(Epoch 155 / 250) train loss: 0.744609; val loss: 3.575133\n",
      "(Epoch 156 / 250) train loss: 0.792894; val loss: 3.582753\n",
      "(Epoch 157 / 250) train loss: 0.774394; val loss: 3.571200\n",
      "(Epoch 158 / 250) train loss: 0.739311; val loss: 3.576578\n",
      "(Epoch 159 / 250) train loss: 0.741662; val loss: 3.620671\n",
      "(Epoch 160 / 250) train loss: 0.753935; val loss: 3.646358\n",
      "(Epoch 161 / 250) train loss: 0.782563; val loss: 3.617880\n",
      "(Epoch 162 / 250) train loss: 0.763365; val loss: 3.559865\n",
      "(Epoch 163 / 250) train loss: 0.767466; val loss: 3.564209\n",
      "(Epoch 164 / 250) train loss: 0.774065; val loss: 3.622210\n",
      "(Epoch 165 / 250) train loss: 0.732488; val loss: 3.623258\n",
      "(Epoch 166 / 250) train loss: 0.760286; val loss: 3.601759\n",
      "(Epoch 167 / 250) train loss: 0.757921; val loss: 3.548541\n",
      "(Epoch 168 / 250) train loss: 0.747500; val loss: 3.552871\n",
      "(Epoch 169 / 250) train loss: 0.753144; val loss: 3.606436\n",
      "(Epoch 170 / 250) train loss: 0.749281; val loss: 3.686452\n",
      "(Epoch 171 / 250) train loss: 0.738531; val loss: 3.654629\n",
      "(Epoch 172 / 250) train loss: 0.730391; val loss: 3.604197\n",
      "(Epoch 173 / 250) train loss: 0.759897; val loss: 3.573753\n",
      "(Epoch 174 / 250) train loss: 0.768693; val loss: 3.616529\n",
      "(Epoch 175 / 250) train loss: 0.726986; val loss: 3.724468\n",
      "(Epoch 176 / 250) train loss: 0.804423; val loss: 3.709693\n",
      "(Epoch 177 / 250) train loss: 0.797810; val loss: 3.638303\n",
      "(Epoch 178 / 250) train loss: 0.750599; val loss: 3.585636\n",
      "(Epoch 179 / 250) train loss: 0.797846; val loss: 3.607448\n",
      "(Epoch 180 / 250) train loss: 0.801311; val loss: 3.694049\n",
      "(Epoch 181 / 250) train loss: 0.859225; val loss: 3.712115\n",
      "(Epoch 182 / 250) train loss: 0.754170; val loss: 3.714513\n",
      "(Epoch 183 / 250) train loss: 0.834290; val loss: 3.697909\n",
      "(Epoch 184 / 250) train loss: 0.823297; val loss: 3.689442\n",
      "(Epoch 185 / 250) train loss: 0.787886; val loss: 3.708907\n",
      "(Epoch 186 / 250) train loss: 0.820440; val loss: 3.728826\n",
      "(Epoch 187 / 250) train loss: 0.795656; val loss: 3.689401\n",
      "(Epoch 188 / 250) train loss: 0.757652; val loss: 3.650762\n",
      "(Epoch 189 / 250) train loss: 0.762815; val loss: 3.598670\n",
      "(Epoch 190 / 250) train loss: 0.757050; val loss: 3.551154\n",
      "(Epoch 191 / 250) train loss: 0.800520; val loss: 3.580254\n",
      "(Epoch 192 / 250) train loss: 0.768210; val loss: 3.658468\n",
      "(Epoch 193 / 250) train loss: 0.820095; val loss: 3.696640\n",
      "(Epoch 194 / 250) train loss: 0.788721; val loss: 3.714835\n",
      "(Epoch 195 / 250) train loss: 0.768306; val loss: 3.660237\n",
      "(Epoch 196 / 250) train loss: 0.771151; val loss: 3.611363\n",
      "(Epoch 197 / 250) train loss: 0.768989; val loss: 3.681698\n",
      "(Epoch 198 / 250) train loss: 0.774044; val loss: 3.737884\n",
      "(Epoch 199 / 250) train loss: 0.776415; val loss: 3.728292\n",
      "(Epoch 200 / 250) train loss: 0.799004; val loss: 3.640647\n",
      "(Epoch 201 / 250) train loss: 0.770104; val loss: 3.627651\n",
      "(Epoch 202 / 250) train loss: 0.780966; val loss: 3.623734\n",
      "(Epoch 203 / 250) train loss: 0.730018; val loss: 3.657930\n",
      "(Epoch 204 / 250) train loss: 0.737165; val loss: 3.676205\n",
      "(Epoch 205 / 250) train loss: 0.753726; val loss: 3.601258\n",
      "(Epoch 206 / 250) train loss: 0.724513; val loss: 3.546811\n",
      "(Epoch 207 / 250) train loss: 0.766933; val loss: 3.589951\n",
      "(Epoch 208 / 250) train loss: 0.719522; val loss: 3.691111\n",
      "(Epoch 209 / 250) train loss: 0.714733; val loss: 3.728427\n",
      "(Epoch 210 / 250) train loss: 0.737932; val loss: 3.670059\n",
      "(Epoch 211 / 250) train loss: 0.737858; val loss: 3.615141\n",
      "(Epoch 212 / 250) train loss: 0.724893; val loss: 3.616577\n",
      "(Epoch 213 / 250) train loss: 0.761122; val loss: 3.629339\n",
      "(Epoch 214 / 250) train loss: 0.731882; val loss: 3.628867\n",
      "(Epoch 215 / 250) train loss: 0.731660; val loss: 3.613929\n",
      "(Epoch 216 / 250) train loss: 0.733070; val loss: 3.603583\n",
      "(Epoch 217 / 250) train loss: 0.721475; val loss: 3.622810\n",
      "(Epoch 218 / 250) train loss: 0.734419; val loss: 3.662188\n",
      "(Epoch 219 / 250) train loss: 0.757359; val loss: 3.671290\n",
      "(Epoch 220 / 250) train loss: 0.756611; val loss: 3.644900\n",
      "(Epoch 221 / 250) train loss: 0.727593; val loss: 3.633846\n",
      "(Epoch 222 / 250) train loss: 0.760914; val loss: 3.669818\n",
      "(Epoch 223 / 250) train loss: 0.718413; val loss: 3.683529\n",
      "(Epoch 224 / 250) train loss: 0.730066; val loss: 3.650558\n",
      "(Epoch 225 / 250) train loss: 0.749502; val loss: 3.606464\n",
      "(Epoch 226 / 250) train loss: 0.748110; val loss: 3.629021\n",
      "(Epoch 227 / 250) train loss: 0.746946; val loss: 3.658865\n",
      "(Epoch 228 / 250) train loss: 0.722235; val loss: 3.665191\n",
      "(Epoch 229 / 250) train loss: 0.760407; val loss: 3.681083\n",
      "(Epoch 230 / 250) train loss: 0.735162; val loss: 3.666728\n",
      "(Epoch 231 / 250) train loss: 0.748278; val loss: 3.652603\n",
      "(Epoch 232 / 250) train loss: 0.715551; val loss: 3.647779\n",
      "(Epoch 233 / 250) train loss: 0.770674; val loss: 3.644554\n",
      "(Epoch 234 / 250) train loss: 0.713985; val loss: 3.655581\n",
      "(Epoch 235 / 250) train loss: 0.738823; val loss: 3.659639\n",
      "(Epoch 236 / 250) train loss: 0.738402; val loss: 3.652668\n",
      "(Epoch 237 / 250) train loss: 0.705538; val loss: 3.638517\n",
      "(Epoch 238 / 250) train loss: 0.800849; val loss: 3.623204\n",
      "(Epoch 239 / 250) train loss: 0.740161; val loss: 3.807227\n",
      "(Epoch 240 / 250) train loss: 0.971412; val loss: 3.834113\n",
      "(Epoch 241 / 250) train loss: 0.824002; val loss: 3.994031\n",
      "(Epoch 242 / 250) train loss: 0.914461; val loss: 4.049645\n",
      "(Epoch 243 / 250) train loss: 0.881154; val loss: 3.993486\n",
      "(Epoch 244 / 250) train loss: 0.872629; val loss: 3.901666\n",
      "(Epoch 245 / 250) train loss: 0.812461; val loss: 3.802015\n",
      "(Epoch 246 / 250) train loss: 0.829320; val loss: 3.685460\n",
      "(Epoch 247 / 250) train loss: 0.759923; val loss: 3.584726\n",
      "(Epoch 248 / 250) train loss: 0.850469; val loss: 3.603523\n",
      "(Epoch 249 / 250) train loss: 0.805950; val loss: 3.824855\n",
      "(Epoch 250 / 250) train loss: 0.881791; val loss: 3.926704\n"
     ]
    }
   ],
   "source": [
    "from exercise_code.networks import MyOwnNetwork\n",
    "\n",
    "num_layer = 2\n",
    "epochs = 250\n",
    "reg = 0.1\n",
    "num_samples = 10\n",
    "\n",
    "model = ClassificationNet(num_layer=num_layer, reg=reg)\n",
    "# model = MyOwnNetwork()\n",
    "\n",
    "loss = CrossEntropyFromLogits()\n",
    "\n",
    "# Make a new data loader with a our num_samples training image\n",
    "overfit_dataset = DATASET(\n",
    "    mode='train',\n",
    "    root=cifar_root, \n",
    "    download_url=download_url,\n",
    "    transform=compose_transform,\n",
    "    limit_files=num_samples\n",
    ")\n",
    "dataloaders['train_overfit_10samples'] = DataLoader(\n",
    "    dataset=overfit_dataset,\n",
    "    batch_size=batch_size,\n",
    "    shuffle=True,\n",
    "    drop_last=False,\n",
    ")\n",
    "\n",
    "solver = Solver(model, dataloaders['train_overfit_10samples'], dataloaders['val_500files'], \n",
    "                learning_rate=1e-3, loss_func=loss, optimizer=Adam)\n",
    "\n",
    "solver.train(epochs=epochs)"
   ]
  },
  {
   "cell_type": "code",
   "execution_count": null,
   "metadata": {
    "colab": {
     "base_uri": "https://localhost:8080/"
    },
    "executionInfo": {
     "elapsed": 15,
     "status": "ok",
     "timestamp": 1650011794380,
     "user": {
      "displayName": "Weber Anna",
      "userId": "18154618360144454414"
     },
     "user_tz": -120
    },
    "id": "DmzTCYw_N5en",
    "outputId": "8076912f-608c-497c-e092-3da5e9e8ddcd"
   },
   "outputs": [
    {
     "data": {
      "image/png": "[encoded data removed]",
      "text/plain": [
       "<Figure size 1000x800 with 1 Axes>"
      ]
     },
     "metadata": {},
     "output_type": "display_data"
    }
   ],
   "source": [
    "plt.title('Loss curves')\n",
    "plt.plot(solver.train_loss_history, '-', label='train')\n",
    "plt.plot(solver.val_loss_history, '-', label='val')\n",
    "plt.legend(loc='lower right')\n",
    "plt.xlabel('Iteration')\n",
    "plt.show()"
   ]
  },
  {
   "cell_type": "code",
   "execution_count": null,
   "metadata": {
    "colab": {
     "base_uri": "https://localhost:8080/"
    },
    "executionInfo": {
     "elapsed": 822,
     "status": "ok",
     "timestamp": 1650011795194,
     "user": {
      "displayName": "Weber Anna",
      "userId": "18154618360144454414"
     },
     "user_tz": -120
    },
    "id": "8H8xyMcaN5en",
    "outputId": "55c1d949-949d-414f-8a34-fa85faa9ed9b"
   },
   "outputs": [
    {
     "name": "stdout",
     "output_type": "stream",
     "text": [
      "Training accuray: 1.00000\n",
      "Validation accuray: 0.08000\n"
     ]
    }
   ],
   "source": [
    "print(\"Training accuray: %.5f\" % (solver.get_dataset_accuracy(dataloaders['train_overfit_10samples'])))\n",
    "print(\"Validation accuray: %.5f\" % (solver.get_dataset_accuracy(dataloaders['val_500files'])))"
   ]
  },
  {
   "cell_type": "markdown",
   "metadata": {
    "id": "7PoTJskAN5en"
   },
   "source": [
    "If you're overfitting to the training data, that means the network's implementation is correct. However, as you have more samples to overfit, your accuracy will be way lower. You can increase the number of epochs above to achieve better results.\n",
    "\n",
    "Now let's try to feed all the training and validation data into the network, but this time let's set compare a 2-layer and a 5-layer network, using the same hyperparameters.\n",
    "\n",
    "<div class=\"alert alert-warning\">\n",
    "    <h3>Note:</h3>\n",
    "    <p>This may take about 1 min per epoch as the training set is quite large. For convenience, we are now only using 1000 images for training but use the full validation set.</p>\n",
    "</div>"
   ]
  },
  {
   "cell_type": "code",
   "execution_count": null,
   "metadata": {
    "colab": {
     "background_save": true
    },
    "id": "ayhMGBUBN5en",
    "outputId": "0f77d4ee-a8c9-4ddc-e538-c1818c306acf"
   },
   "outputs": [
    {
     "name": "stdout",
     "output_type": "stream",
     "text": [
      "(Epoch 1 / 5) train loss: 2.305701; val loss: 2.305666\n",
      "(Epoch 2 / 5) train loss: 2.278313; val loss: 2.217917\n",
      "(Epoch 3 / 5) train loss: 2.229720; val loss: 2.238025\n",
      "(Epoch 4 / 5) train loss: 2.225433; val loss: 2.224318\n",
      "(Epoch 5 / 5) train loss: 2.221440; val loss: 2.224084\n"
     ]
    }
   ],
   "source": [
    "from exercise_code.networks import MyOwnNetwork\n",
    "\n",
    "num_layer = 2\n",
    "epochs = 5\n",
    "reg = 0.01\n",
    "\n",
    "# Make a new data loader with 1000 training samples\n",
    "num_samples = 1000\n",
    "overfit_dataset = DATASET(\n",
    "    mode='train',\n",
    "    root=cifar_root, \n",
    "    download_url=download_url,\n",
    "    transform=compose_transform,\n",
    "    limit_files=num_samples\n",
    ")\n",
    "dataloaders['train_small'] = DataLoader(\n",
    "    dataset=overfit_dataset,\n",
    "    batch_size=batch_size,\n",
    "    shuffle=True,\n",
    "    drop_last=False,\n",
    ")\n",
    "\n",
    "\n",
    "# Change here if you want to use the full training set\n",
    "use_full_training_set = False\n",
    "if not use_full_training_set:\n",
    "    train_loader = dataloaders['train_small']\n",
    "else:\n",
    "    train_loader = dataloaders['train']\n",
    "    \n",
    "\n",
    "model = ClassificationNet(num_layer=num_layer, reg=reg)\n",
    "# model = MyOwnNetwork()\n",
    "\n",
    "loss = CrossEntropyFromLogits()\n",
    "\n",
    "solver = Solver(model, train_loader, dataloaders['val'], \n",
    "                learning_rate=1e-3, loss_func=loss, optimizer=Adam)\n",
    "\n",
    "solver.train(epochs=epochs)"
   ]
  },
  {
   "cell_type": "code",
   "execution_count": null,
   "metadata": {
    "colab": {
     "background_save": true
    },
    "id": "3htGtgttN5en",
    "outputId": "6336d86c-13c1-40e5-9080-7aa5ed774959"
   },
   "outputs": [
    {
     "data": {
      "image/png": "[encoded data removed]",
      "text/plain": [
       "<Figure size 1000x800 with 1 Axes>"
      ]
     },
     "metadata": {},
     "output_type": "display_data"
    }
   ],
   "source": [
    "plt.title('Loss curves')\n",
    "plt.plot(solver.train_loss_history, '-', label='train')\n",
    "plt.plot(solver.val_loss_history, '-', label='val')\n",
    "plt.legend(loc='lower right')\n",
    "plt.xlabel('Iteration')\n",
    "plt.show()"
   ]
  },
  {
   "cell_type": "code",
   "execution_count": null,
   "metadata": {
    "colab": {
     "background_save": true
    },
    "id": "oOVafQ7yN5eo",
    "outputId": "7207ecce-50aa-4e80-83ee-1d05529ab23a"
   },
   "outputs": [
    {
     "name": "stdout",
     "output_type": "stream",
     "text": [
      "Training accuray: 0.31200\n",
      "Validation accuray: 0.25581\n"
     ]
    }
   ],
   "source": [
    "print(\"Training accuray: %.5f\" % (solver.get_dataset_accuracy(train_loader)))\n",
    "print(\"Validation accuray: %.5f\" % (solver.get_dataset_accuracy(dataloaders['val'])))"
   ]
  },
  {
   "cell_type": "code",
   "execution_count": null,
   "metadata": {
    "colab": {
     "background_save": true
    },
    "id": "vG9U5OmwN5eo",
    "outputId": "4aa8426b-eea9-4be8-bc08-6add66c4cf82"
   },
   "outputs": [
    {
     "name": "stdout",
     "output_type": "stream",
     "text": [
      "(Epoch 1 / 5) train loss: 2.305912; val loss: 2.305979\n",
      "(Epoch 2 / 5) train loss: 2.327428; val loss: 2.308302\n",
      "(Epoch 3 / 5) train loss: 2.318951; val loss: 2.320646\n",
      "(Epoch 4 / 5) train loss: 2.313579; val loss: 2.323224\n",
      "(Epoch 5 / 5) train loss: 2.318441; val loss: 2.314183\n"
     ]
    }
   ],
   "source": [
    "from exercise_code.networks import MyOwnNetwork\n",
    "\n",
    "num_layer = 5\n",
    "epochs = 5\n",
    "reg = 0.01\n",
    "\n",
    "model = ClassificationNet(num_layer=num_layer, reg=reg)\n",
    "# model = MyOwnNetwork()\n",
    "\n",
    "# Change here if you want to use the full training set\n",
    "use_full_training_set = False\n",
    "if not use_full_training_set:\n",
    "    train_loader = dataloaders['train_small']\n",
    "else:\n",
    "    train_loader = dataloaders['train']\n",
    "\n",
    "loss = CrossEntropyFromLogits()\n",
    "\n",
    "solver = Solver(model, train_loader, dataloaders['val'], \n",
    "                learning_rate=1e-3, loss_func=loss, optimizer=Adam)\n",
    "\n",
    "solver.train(epochs=epochs)"
   ]
  },
  {
   "cell_type": "code",
   "execution_count": null,
   "metadata": {
    "colab": {
     "background_save": true
    },
    "id": "08XZk2GYN5eo",
    "outputId": "3d04c7c9-a0ce-4522-c858-e9491fca8102"
   },
   "outputs": [
    {
     "data": {
      "image/png": "[encoded data removed]",
      "text/plain": [
       "<Figure size 1000x800 with 1 Axes>"
      ]
     },
     "metadata": {},
     "output_type": "display_data"
    }
   ],
   "source": [
    "plt.title('Loss curves')\n",
    "plt.plot(solver.train_loss_history, '-', label='train')\n",
    "plt.plot(solver.val_loss_history, '-', label='val')\n",
    "plt.legend(loc='lower right')\n",
    "plt.xlabel('Iteration')\n",
    "plt.show()"
   ]
  },
  {
   "cell_type": "code",
   "execution_count": null,
   "metadata": {
    "colab": {
     "background_save": true
    },
    "id": "7-sI0yyWN5eo",
    "outputId": "29f489a2-6899-410e-9e82-8026cb77d505"
   },
   "outputs": [
    {
     "name": "stdout",
     "output_type": "stream",
     "text": [
      "Training accuray: 0.10500\n",
      "Validation accuray: 0.09826\n"
     ]
    }
   ],
   "source": [
    "print(\"Training accuray: %.5f\" % (solver.get_dataset_accuracy(train_loader)))\n",
    "print(\"Validation accuray: %.5f\" % (solver.get_dataset_accuracy(dataloaders['val'])))"
   ]
  },
  {
   "cell_type": "markdown",
   "metadata": {
    "id": "_nNdnSi4N5eo"
   },
   "source": [
    "As you can see from above, the same hyperparameter set can decrease the loss for a 2-layer network, but for 5-layer network, it hardly works.\n",
    "\n",
    "The steps above are already mentioned in the lectures as debugging steps before training a neural network. \n",
    "\n",
    "If you implement your own network, make sure you do the steps above before tuning the hyperparameters as below. "
   ]
  },
  {
   "cell_type": "markdown",
   "metadata": {
    "id": "l0pZa4weN5eo"
   },
   "source": [
    "## 2.2 Difficulty in tuning hyperparameters\n",
    "Small decisions on hyperparameters count. Usually, but not always, hyperparameters cannot be learned using well known gradient based methods (such as gradient descent), which are commonly employed to learn parameters. \n",
    "\n",
    "As mentioned before, hyperparameters need to be set before training. Tuning hyperparameters is hard, because you always have to try different combinations of the hyperparameters, train the network, do the validation and pick the best one. Besides, it is not guaranteed that you'll find the best combination.\n",
    "\n",
    "Let's do some hands on learning using the hyperparameter tuning methods covered in the lectures."
   ]
  },
  {
   "cell_type": "markdown",
   "metadata": {
    "id": "pDQl6fY6N5ep"
   },
   "source": [
    "# 3. Hyperparameter Tuning\n",
    "\n",
    "![alt text](https://blog.floydhub.com/content/images/2018/08/Screen-Shot-2018-08-22-at-17.59.25.png \"\")\n",
    "\n",
    "One of the main challenges in deep learning is finding the set of hyperparameters that performs best.\n",
    "\n",
    "So far, we have followed a manual approach by guessing hyperparameters, running the model, observing the result and maybe tweaking the hyperparameters based on this result. As you have probably noticed, this manual hyperparameter tuning is unstructured, inefficient and can become very tedious.\n",
    "\n",
    "\n",
    "A more systematic (and actually very simple) approach for hyperparameter tuning that you've already learned in the lecture  is implementing a **Grid Search**. \n",
    "\n",
    "\n",
    "\n",
    "## 3.1 Grid Search\n",
    "Grid search is a simple and naive, yet effective method to automate the hyperparameter tuning:\n",
    "\n",
    "* First, you define the set of parameters you want to tune, e.g. $\\{learning\\_rate, regularization\\_strength\\}$.\n",
    "\n",
    "* For each hyperparameter, you then define a set of possible values, e.g. $learning\\_rate = \\{0.0001, 0.001, 0.01, 0.1\\}$.\n",
    "\n",
    "* Then, you train a model for every possible combination of these hyperparameter values and afterwards select the combination that works best (e.g. in terms of accuracy on your validation set).\n",
    "\n",
    "<div class=\"alert alert-success\">\n",
    "    <h3>Task: Check Code</h3>\n",
    "    <p>Check out our <code>grid_search</code> implementation in <code>../exercise_6/exercise_code/hyperparameter_tuning.py</code>. We show a simple for loop implementation and a more sophisticated one for multiple inputs. </p>\n",
    "</div>\n",
    " \n",
    " <div class=\"alert alert-warning\">\n",
    "    <h3>Note:</h3>\n",
    "    <p>To keep things simple in the beginning, it'll be enough to just focus on the hyperparameters <code>learning_rate</code> and <code>regularization_strength</code> here, as in the example above.</p>\n",
    "</div>"
   ]
  },
  {
   "cell_type": "code",
   "execution_count": null,
   "metadata": {
    "colab": {
     "background_save": true
    },
    "id": "BBW9Vl4rN5ep",
    "outputId": "39d57fd3-e250-4826-d0b6-89952b9ae73b"
   },
   "outputs": [
    {
     "name": "stdout",
     "output_type": "stream",
     "text": [
      "\n",
      "Evaluating Config #1 [of 3]:\n",
      " {'learning_rate': 0.01, 'reg': 0.0001}\n",
      "(Epoch 1 / 10) train loss: 2.302778; val loss: 2.302379\n",
      "(Epoch 2 / 10) train loss: 2.550108; val loss: 2.530279\n",
      "(Epoch 3 / 10) train loss: 2.720912; val loss: 2.761518\n",
      "(Epoch 4 / 10) train loss: 2.881933; val loss: 3.090992\n"
     ]
    },
    {
     "name": "stderr",
     "output_type": "stream",
     "text": [
      "d:\\samyeli\\Desktop\\M\\WS22\\IN2346\\Exercises\\i2dl\\exercise_06\\exercise_code\\networks\\layer.py:66: RuntimeWarning: overflow encountered in exp\n",
      "  outputs = 1 / (1 + np.exp(-x))\n"
     ]
    },
    {
     "name": "stdout",
     "output_type": "stream",
     "text": [
      "(Epoch 5 / 10) train loss: 3.034715; val loss: 3.161722\n",
      "(Epoch 6 / 10) train loss: 3.128255; val loss: 3.174829\n",
      "Stopping early at epoch 5!\n",
      "\n",
      "Evaluating Config #2 [of 3]:\n",
      " {'learning_rate': 0.001, 'reg': 0.0001}\n",
      "(Epoch 1 / 10) train loss: 2.302776; val loss: 2.302850\n",
      "(Epoch 2 / 10) train loss: 2.188627; val loss: 2.018576\n",
      "(Epoch 3 / 10) train loss: 1.999532; val loss: 1.933551\n",
      "(Epoch 4 / 10) train loss: 1.898786; val loss: 1.913172\n",
      "(Epoch 5 / 10) train loss: 1.841508; val loss: 1.899847\n",
      "(Epoch 6 / 10) train loss: 1.762758; val loss: 1.893212\n",
      "(Epoch 7 / 10) train loss: 1.705783; val loss: 1.985949\n",
      "(Epoch 8 / 10) train loss: 1.632046; val loss: 1.944534\n",
      "(Epoch 9 / 10) train loss: 1.592073; val loss: 1.926839\n",
      "(Epoch 10 / 10) train loss: 1.509715; val loss: 1.928747\n",
      "\n",
      "Evaluating Config #3 [of 3]:\n",
      " {'learning_rate': 0.0001, 'reg': 0.0001}\n",
      "(Epoch 1 / 10) train loss: 2.302742; val loss: 2.302700\n",
      "(Epoch 2 / 10) train loss: 2.286272; val loss: 2.243366\n",
      "(Epoch 3 / 10) train loss: 2.212058; val loss: 2.153702\n",
      "(Epoch 4 / 10) train loss: 2.136847; val loss: 2.086200\n",
      "(Epoch 5 / 10) train loss: 2.075843; val loss: 2.034195\n",
      "(Epoch 6 / 10) train loss: 2.025140; val loss: 1.996724\n",
      "(Epoch 7 / 10) train loss: 1.980983; val loss: 1.980872\n",
      "(Epoch 8 / 10) train loss: 1.941590; val loss: 1.947735\n",
      "(Epoch 9 / 10) train loss: 1.904624; val loss: 1.928624\n",
      "(Epoch 10 / 10) train loss: 1.870713; val loss: 1.909161\n",
      "\n",
      "Search done. Best Val Loss = 1.8932124228067182\n",
      "Best Config: {'learning_rate': 0.001, 'reg': 0.0001}\n"
     ]
    }
   ],
   "source": [
    "from exercise_code.networks import MyOwnNetwork\n",
    "\n",
    "# Specify the used network\n",
    "model_class = ClassificationNet\n",
    "\n",
    "from exercise_code import hyperparameter_tuning\n",
    "best_model, best_config, results  = hyperparameter_tuning.grid_search(\n",
    "    dataloaders['train_small'], dataloaders['val_500files'],\n",
    "    grid_search_spaces = {\n",
    "        \"learning_rate\": [1e-2, 1e-3, 1e-4], \n",
    "        \"reg\": [1e-4]\n",
    "    },\n",
    "    model_class=model_class,\n",
    "    epochs=10, patience=5)"
   ]
  },
  {
   "cell_type": "markdown",
   "metadata": {
    "id": "5v0g7q9xN5ep"
   },
   "source": [
    "From the results of your grid search, you might already have found some hyperparameter combinations that work better than others. A common practice is to now repeat the grid search on a more narrow domain centered around the parameters that worked best. \n",
    "\n",
    "**Conclusion Grid Search**\n",
    "\n",
    "With grid search we have automated the hyperparameter tuning to a certain degree. Another advantage is, that since the trainings of the models are independent of each other, you can parallelize the grid search, by e.g. trying out different hyperparameter configurations in parallel on different machines.\n",
    "\n",
    "However, as you have probably noticed, there is one big problem with this approach: the number of possible combinations grows exponentially with the number of hyperparameters (\"curse of dimensionality\"). As we add more hyperparameters to the grid search, the search space will explode in time complexity, making this strategy unfeasible."
   ]
  },
  {
   "cell_type": "markdown",
   "metadata": {
    "id": "m_NvhoFcN5ep"
   },
   "source": [
    "Especially when your search space contains more than 3 or 4 dimensions, it is often better to use another, similar hyperparameter tuning method that you've already learned about: random search."
   ]
  },
  {
   "cell_type": "markdown",
   "metadata": {
    "id": "rDyeiAN1N5ep"
   },
   "source": [
    "## 3.2 Random Search\n",
    "Random search is very similar to grid search, with the only difference, that instead of providing specific values for every hyperparameter, you only define a range for each hyperparameter - then, the values are sampled randomly from the provided ranges.\n",
    "\n",
    "![alt text](https://i.stack.imgur.com/cIDuR.png \"\")\n",
    "\n",
    "The figure above illustrates the difference in the hyperparameter space exploration between grid search and random search: assume you have 2 hyperparameters with each 3 values. Running a grid search results in training $3^2=9$ different models - but in the end, you've just tired out 3 values for each parameter. For random search on the other hand, after training 9 models you'll have tried out 9 different values for each hyperparameter, which often leads much faster to good results.\n",
    "\n",
    "To get a deeper understanding of random search and why it is more efficient than grid search, you should definitely check out this paper: http://www.jmlr.org/papers/volume13/bergstra12a/bergstra12a.pdf\n",
    "\n",
    "<div class=\"alert alert-success\">\n",
    "    <h3>Task: Check Code</h3>\n",
    "    <p>Check out our <code>random_search</code> implementation in <code>../exercise_6/exercise_code/hyperparameter_tuning.py</code></p>\n",
    "</div>\n",
    "\n",
    "\n",
    "*Hint: regarding the sample space of each parameter, think about the scale for which it makes most sense to sample in. For example the learning rate is usually sampled on a logarithmic scale!*\n",
    "\n",
    "*For simplicity and speed, just use the `train_small`-dataloader!*"
   ]
  },
  {
   "cell_type": "code",
   "execution_count": null,
   "metadata": {
    "colab": {
     "background_save": true
    },
    "id": "d64soT68N5ep",
    "outputId": "eafe47b6-33db-401e-8d4e-96573caa8048"
   },
   "outputs": [
    {
     "name": "stdout",
     "output_type": "stream",
     "text": [
      "\n",
      "Evaluating Config #1 [of 1]:\n",
      " {'learning_rate': 1.4309680033810682e-07, 'reg': 2.9337693570025562e-06, 'loss_func': <exercise_code.networks.loss.CrossEntropyFromLogits object at 0x00000198C3CB4FA0>}\n",
      "(Epoch 1 / 20) train loss: 2.302916; val loss: 2.302398\n",
      "(Epoch 2 / 20) train loss: 2.302906; val loss: 2.302371\n",
      "(Epoch 3 / 20) train loss: 2.302873; val loss: 2.302348\n",
      "(Epoch 4 / 20) train loss: 2.302840; val loss: 2.302321\n",
      "(Epoch 5 / 20) train loss: 2.302808; val loss: 2.302296\n",
      "(Epoch 6 / 20) train loss: 2.302777; val loss: 2.302269\n",
      "(Epoch 7 / 20) train loss: 2.302744; val loss: 2.302243\n",
      "(Epoch 8 / 20) train loss: 2.302712; val loss: 2.302219\n",
      "(Epoch 9 / 20) train loss: 2.302680; val loss: 2.302195\n",
      "(Epoch 10 / 20) train loss: 2.302647; val loss: 2.302165\n",
      "(Epoch 11 / 20) train loss: 2.302615; val loss: 2.302141\n",
      "(Epoch 12 / 20) train loss: 2.302584; val loss: 2.302113\n",
      "(Epoch 13 / 20) train loss: 2.302551; val loss: 2.302091\n",
      "(Epoch 14 / 20) train loss: 2.302519; val loss: 2.302062\n",
      "(Epoch 15 / 20) train loss: 2.302487; val loss: 2.302040\n",
      "(Epoch 16 / 20) train loss: 2.302455; val loss: 2.302011\n",
      "(Epoch 17 / 20) train loss: 2.302422; val loss: 2.301988\n",
      "(Epoch 18 / 20) train loss: 2.302391; val loss: 2.301961\n",
      "(Epoch 19 / 20) train loss: 2.302358; val loss: 2.301935\n",
      "(Epoch 20 / 20) train loss: 2.302326; val loss: 2.301907\n",
      "\n",
      "Search done. Best Val Loss = 2.301907310793002\n",
      "Best Config: {'learning_rate': 1.4309680033810682e-07, 'reg': 2.9337693570025562e-06, 'loss_func': <exercise_code.networks.loss.CrossEntropyFromLogits object at 0x00000198C3CB4FA0>}\n"
     ]
    }
   ],
   "source": [
    "from exercise_code.hyperparameter_tuning import random_search\n",
    "from exercise_code.networks import MyOwnNetwork\n",
    "\n",
    "# Specify the used network\n",
    "model_class = ClassificationNet\n",
    "\n",
    "best_model, best_config, results  = random_search(\n",
    "    dataloaders['train_small'], dataloaders['val_500files'],\n",
    "    random_search_spaces = {\n",
    "        \"learning_rate\": ([1e-1, 1e-8], \"log\"),\n",
    "        \"reg\": ([1e-3, 1e-7], \"log\"),\n",
    "        \"loss_func\": ([CrossEntropyFromLogits()], \"item\")\n",
    "    },\n",
    "    model_class=model_class,\n",
    "    num_search = 1, epochs=20, patience=5)"
   ]
  },
  {
   "cell_type": "markdown",
   "metadata": {
    "id": "LayF5YYbN5eq"
   },
   "source": [
    "It's time to run it with the whole dataset, and let it search for a few hours for a nice configuration. \n",
    "\n",
    "However, to save some time, let's first implement an **early-stopping** mechanism, that you also already know from the lecture."
   ]
  },
  {
   "cell_type": "markdown",
   "metadata": {
    "id": "DCaACnn3N5eq"
   },
   "source": [
    "## 3.3 Early Stopping"
   ]
  },
  {
   "cell_type": "markdown",
   "metadata": {
    "id": "IjsO1OPLN5eq"
   },
   "source": [
    "By now you've already seen a lot of training curves:\n",
    "\n",
    "<img src=http://fouryears.eu/wp-content/uploads/2017/12/early_stopping.png></img>\n",
    "\n",
    "Usually, at some point the validation loss goes up again, which is a sign that we're overfitting to our training data. Since it actually doesn't make sense to train further at this point, it's common practice to apply \"early stopping\", i.e., cancel the training process when the validation loss doesn't improve anymore. The nice thing about this concept is, that not only it improves generalization through the prevention of overfitting, but also it saves us a lot of time - one of our most valuable resources in deep learning.\n",
    "\n",
    "Since there are natural fluctuations in the validation loss, you usually don't cancel the training process right at the first epoch when the validation-loss increases, but instead, you wait for some epochs (specified by the `patience`-parameter) and if the loss still doesn't improve, we stop.\n",
    "\n",
    "<div class=\"alert alert-success\">\n",
    "    <h3>Task: Check Code</h3>\n",
    "    <p>Please check the implementation of the early stopping mechanism in <code>../exercise_6/exercise_code/solver.py</code>.\n",
    " </p>\n",
    "</div>"
   ]
  },
  {
   "cell_type": "markdown",
   "metadata": {
    "id": "P8wWTovfN5eq"
   },
   "source": [
    "## 3.4 Let's find the perfect model!"
   ]
  },
  {
   "cell_type": "markdown",
   "metadata": {
    "id": "ksUYQAhgN5eq"
   },
   "source": [
    "Now you've set everything up and you are ready to train your model. You can use a combination of grid and random search to find proper hyperparameters. \n",
    "\n",
    "Be aware that this process will take some time, since we'll be using a much larger dataset.\n",
    "\n",
    "At the beginning, it is a good approach to do a coarse random search across a wide range of values to find promising sub-ranges of your parameter space. Afterwards, you can zoom into these ranges and perform another random search (or grid search) to finetune the configurations.\n",
    "\n",
    "To save time and resources, don't use the whole dataset at the beginning, but instead a medium large subset of the samples. Also, you don't have to train for a large number of epochs - as mentioned above: we first want to get an overview about our hyper parameters.\n",
    "\n",
    "<div class=\"alert alert-info\">\n",
    "    <h3>Task: Hyperparameters Tunning & Model Training </h3>\n",
    "        <p> Now, it is your turn to do the hyperparamater tuning. In the cell below, you can use the <code>random_search</code> function to find a good choice of parameters. Put in some reasonable ranges for the hyperparameters and evaluate them.\n",
    "    <p> <b>Note:</b> At the beginning, it's a good approach to first do a coarse random search across a <b> wide range of values</b> to find promising sub-ranges of your parameter space and use <b> a medium large subset of the dataset </b>. Afterwards, you can zoom into these ranges and do another random search (or grid search) to finetune the configurations. Use the cell below to play around and find good hyperparameters for your model!</p>\n",
    "        <p> Finally, once you've found some promising hyperparameters (or narrowed them down to promising subranges), it's time to utilize these hyperparameters to train your network on the whole dataset for a large number of epochs so that your own model can reach an acceptable performance. \n",
    "        <p> <b>Hint 1:</b> You may use a <code>Solver</code> class we provided before or directly use the <code>random_search</code> function (as you can also monitor the loss here) for model training.\n",
    "        <p> <b>Hint 2:</b> Be patience, this will time.\n",
    "        <p> <b>Hint 3:</b> It is a better practice to find good set of hyperparameters on the small datasets, and only then run a full training session on the full dataset, either with specifc hyperparameters that you've found in the <code>random search</code>, or better ranges.\n",
    "</div>"
   ]
  },
  {
   "cell_type": "markdown",
   "metadata": {},
   "source": [
    "* Network architecture\n",
    "    * Choice of activation function\n",
    "    * Number of layers\n",
    "    * ...\n",
    "* Learning rate\n",
    "* Number of epochs\n",
    "* Batch size\n",
    "* Regularization strength\n",
    "* Momentum\n",
    "* ...\n"
   ]
  },
  {
   "cell_type": "code",
   "execution_count": 28,
   "metadata": {
    "colab": {
     "background_save": true
    },
    "id": "g2C24gzzN5eq",
    "outputId": "f9a7ca76-0471-44bc-dbb7-ac7f5d14e581"
   },
   "outputs": [
    {
     "name": "stdout",
     "output_type": "stream",
     "text": [
      "\n",
      "Evaluating Config #1 [of 5]:\n",
      " {'learning_rate': 0.000574928650324615, 'reg': 5.206705560416237e-07, 'loss_func': <exercise_code.networks.loss.CrossEntropyFromLogits object at 0x00000198C36F1730>, 'momentum': 0.981714700031417, 'num_layer': 2, 'hidden_dim': 298, 'batch_size': 512, 'activation': <exercise_code.networks.layer.Relu object at 0x00000198C36F10A0>}\n",
      "(Epoch 1 / 100) train loss: 2.302545; val loss: 2.302553\n",
      "(Epoch 2 / 100) train loss: 1.865757; val loss: 1.697195\n",
      "(Epoch 3 / 100) train loss: 1.613436; val loss: 1.593818\n",
      "(Epoch 4 / 100) train loss: 1.513564; val loss: 1.551509\n",
      "(Epoch 5 / 100) train loss: 1.444653; val loss: 1.513402\n",
      "(Epoch 6 / 100) train loss: 1.388384; val loss: 1.494118\n",
      "(Epoch 7 / 100) train loss: 1.340121; val loss: 1.489021\n",
      "(Epoch 8 / 100) train loss: 1.296926; val loss: 1.485113\n",
      "(Epoch 9 / 100) train loss: 1.260949; val loss: 1.484064\n",
      "(Epoch 10 / 100) train loss: 1.227351; val loss: 1.468160\n",
      "(Epoch 11 / 100) train loss: 1.189887; val loss: 1.466364\n",
      "(Epoch 12 / 100) train loss: 1.158627; val loss: 1.468528\n",
      "(Epoch 13 / 100) train loss: 1.130590; val loss: 1.466729\n",
      "(Epoch 14 / 100) train loss: 1.102522; val loss: 1.474915\n",
      "(Epoch 15 / 100) train loss: 1.079252; val loss: 1.494340\n",
      "(Epoch 16 / 100) train loss: 1.051178; val loss: 1.484005\n",
      "Stopping early at epoch 15!\n",
      "\n",
      "Evaluating Config #2 [of 5]:\n",
      " {'learning_rate': 0.00023058164748394634, 'reg': 9.632855606071067e-07, 'loss_func': <exercise_code.networks.loss.CrossEntropyFromLogits object at 0x00000198C36F1730>, 'momentum': 0.988287517144505, 'num_layer': 2, 'hidden_dim': 228, 'batch_size': 479, 'activation': <exercise_code.networks.layer.LeakyRelu object at 0x00000198C36F1D30>}\n",
      "(Epoch 1 / 100) train loss: 2.302611; val loss: 2.302615\n",
      "(Epoch 2 / 100) train loss: 2.007649; val loss: 1.835697\n",
      "(Epoch 3 / 100) train loss: 1.747175; val loss: 1.714384\n",
      "(Epoch 4 / 100) train loss: 1.648759; val loss: 1.645400\n",
      "(Epoch 5 / 100) train loss: 1.584002; val loss: 1.608264\n",
      "(Epoch 6 / 100) train loss: 1.533984; val loss: 1.577088\n",
      "(Epoch 7 / 100) train loss: 1.492216; val loss: 1.551229\n",
      "(Epoch 8 / 100) train loss: 1.458064; val loss: 1.532994\n",
      "(Epoch 9 / 100) train loss: 1.425475; val loss: 1.521620\n",
      "(Epoch 10 / 100) train loss: 1.397836; val loss: 1.510662\n",
      "(Epoch 11 / 100) train loss: 1.370909; val loss: 1.500894\n",
      "(Epoch 12 / 100) train loss: 1.345808; val loss: 1.495313\n",
      "(Epoch 13 / 100) train loss: 1.321342; val loss: 1.483291\n",
      "(Epoch 14 / 100) train loss: 1.298498; val loss: 1.474810\n",
      "(Epoch 15 / 100) train loss: 1.278369; val loss: 1.473065\n",
      "(Epoch 16 / 100) train loss: 1.260731; val loss: 1.468808\n",
      "(Epoch 17 / 100) train loss: 1.237331; val loss: 1.464678\n",
      "(Epoch 18 / 100) train loss: 1.220362; val loss: 1.461435\n",
      "(Epoch 19 / 100) train loss: 1.201542; val loss: 1.463347\n",
      "(Epoch 20 / 100) train loss: 1.185899; val loss: 1.459307\n",
      "(Epoch 21 / 100) train loss: 1.168869; val loss: 1.459104\n",
      "(Epoch 22 / 100) train loss: 1.153351; val loss: 1.460039\n",
      "(Epoch 23 / 100) train loss: 1.136885; val loss: 1.458812\n",
      "(Epoch 24 / 100) train loss: 1.121802; val loss: 1.459470\n",
      "(Epoch 25 / 100) train loss: 1.108083; val loss: 1.468534\n",
      "(Epoch 26 / 100) train loss: 1.092896; val loss: 1.463318\n",
      "(Epoch 27 / 100) train loss: 1.078150; val loss: 1.462271\n",
      "(Epoch 28 / 100) train loss: 1.065445; val loss: 1.467414\n",
      "Stopping early at epoch 27!\n",
      "\n",
      "Evaluating Config #3 [of 5]:\n",
      " {'learning_rate': 0.00014947039914461172, 'reg': 5.8289205641174615e-08, 'loss_func': <exercise_code.networks.loss.CrossEntropyFromLogits object at 0x00000198C36F1730>, 'momentum': 0.9817573586726714, 'num_layer': 2, 'hidden_dim': 283, 'batch_size': 459, 'activation': <exercise_code.networks.layer.LeakyRelu object at 0x00000198C36F1D30>}\n",
      "(Epoch 1 / 100) train loss: 2.302582; val loss: 2.302583\n",
      "(Epoch 2 / 100) train loss: 2.067407; val loss: 1.896984\n",
      "(Epoch 3 / 100) train loss: 1.815743; val loss: 1.777835\n",
      "(Epoch 4 / 100) train loss: 1.721016; val loss: 1.711266\n",
      "(Epoch 5 / 100) train loss: 1.658446; val loss: 1.664340\n",
      "(Epoch 6 / 100) train loss: 1.610657; val loss: 1.630162\n",
      "(Epoch 7 / 100) train loss: 1.568505; val loss: 1.600324\n",
      "(Epoch 8 / 100) train loss: 1.533913; val loss: 1.578288\n",
      "(Epoch 9 / 100) train loss: 1.504451; val loss: 1.563598\n",
      "(Epoch 10 / 100) train loss: 1.477448; val loss: 1.547941\n",
      "(Epoch 11 / 100) train loss: 1.453616; val loss: 1.531909\n",
      "(Epoch 12 / 100) train loss: 1.429769; val loss: 1.523927\n",
      "(Epoch 13 / 100) train loss: 1.411354; val loss: 1.513309\n",
      "(Epoch 14 / 100) train loss: 1.390429; val loss: 1.505095\n",
      "(Epoch 15 / 100) train loss: 1.370889; val loss: 1.499228\n",
      "(Epoch 16 / 100) train loss: 1.354886; val loss: 1.490113\n",
      "(Epoch 17 / 100) train loss: 1.337547; val loss: 1.484444\n",
      "(Epoch 18 / 100) train loss: 1.321993; val loss: 1.479683\n",
      "(Epoch 19 / 100) train loss: 1.307444; val loss: 1.478351\n",
      "(Epoch 20 / 100) train loss: 1.292750; val loss: 1.472833\n",
      "(Epoch 21 / 100) train loss: 1.279256; val loss: 1.471069\n",
      "(Epoch 22 / 100) train loss: 1.264982; val loss: 1.465856\n",
      "(Epoch 23 / 100) train loss: 1.251675; val loss: 1.463869\n",
      "(Epoch 24 / 100) train loss: 1.238580; val loss: 1.458842\n",
      "(Epoch 25 / 100) train loss: 1.227195; val loss: 1.460945\n",
      "(Epoch 26 / 100) train loss: 1.215230; val loss: 1.459813\n",
      "(Epoch 27 / 100) train loss: 1.202339; val loss: 1.454388\n",
      "(Epoch 28 / 100) train loss: 1.190182; val loss: 1.453666\n",
      "(Epoch 29 / 100) train loss: 1.180987; val loss: 1.455726\n",
      "(Epoch 30 / 100) train loss: 1.168854; val loss: 1.456219\n",
      "(Epoch 31 / 100) train loss: 1.157538; val loss: 1.455382\n",
      "(Epoch 32 / 100) train loss: 1.147794; val loss: 1.450803\n",
      "(Epoch 33 / 100) train loss: 1.137202; val loss: 1.456713\n",
      "(Epoch 34 / 100) train loss: 1.126459; val loss: 1.456179\n",
      "(Epoch 35 / 100) train loss: 1.117216; val loss: 1.456540\n",
      "(Epoch 36 / 100) train loss: 1.106997; val loss: 1.455498\n",
      "(Epoch 37 / 100) train loss: 1.097594; val loss: 1.460994\n",
      "Stopping early at epoch 36!\n",
      "\n",
      "Evaluating Config #4 [of 5]:\n",
      " {'learning_rate': 0.00011521136688716024, 'reg': 4.484774069399388e-08, 'loss_func': <exercise_code.networks.loss.CrossEntropyFromLogits object at 0x00000198C36F1730>, 'momentum': 0.9894213510813532, 'num_layer': 2, 'hidden_dim': 298, 'batch_size': 484, 'activation': <exercise_code.networks.layer.Relu object at 0x00000198C36F10A0>}\n",
      "(Epoch 1 / 100) train loss: 2.302585; val loss: 2.302576\n",
      "(Epoch 2 / 100) train loss: 2.105863; val loss: 1.941955\n",
      "(Epoch 3 / 100) train loss: 1.861033; val loss: 1.818847\n",
      "(Epoch 4 / 100) train loss: 1.765734; val loss: 1.750705\n",
      "(Epoch 5 / 100) train loss: 1.701451; val loss: 1.698930\n",
      "(Epoch 6 / 100) train loss: 1.652267; val loss: 1.662444\n",
      "(Epoch 7 / 100) train loss: 1.611158; val loss: 1.633429\n",
      "(Epoch 8 / 100) train loss: 1.576022; val loss: 1.610168\n",
      "(Epoch 9 / 100) train loss: 1.546082; val loss: 1.591700\n",
      "(Epoch 10 / 100) train loss: 1.520634; val loss: 1.575399\n",
      "(Epoch 11 / 100) train loss: 1.497423; val loss: 1.561248\n",
      "(Epoch 12 / 100) train loss: 1.476809; val loss: 1.547738\n",
      "(Epoch 13 / 100) train loss: 1.458138; val loss: 1.538221\n",
      "(Epoch 14 / 100) train loss: 1.439552; val loss: 1.531810\n",
      "(Epoch 15 / 100) train loss: 1.423644; val loss: 1.522532\n",
      "(Epoch 16 / 100) train loss: 1.407628; val loss: 1.517061\n",
      "(Epoch 17 / 100) train loss: 1.393378; val loss: 1.509325\n",
      "(Epoch 18 / 100) train loss: 1.378700; val loss: 1.504704\n",
      "(Epoch 19 / 100) train loss: 1.364641; val loss: 1.499600\n",
      "(Epoch 20 / 100) train loss: 1.350855; val loss: 1.490668\n",
      "(Epoch 21 / 100) train loss: 1.338245; val loss: 1.488076\n",
      "(Epoch 22 / 100) train loss: 1.325429; val loss: 1.485612\n",
      "(Epoch 23 / 100) train loss: 1.313177; val loss: 1.479299\n",
      "(Epoch 24 / 100) train loss: 1.300671; val loss: 1.477110\n",
      "(Epoch 25 / 100) train loss: 1.288995; val loss: 1.477389\n",
      "(Epoch 26 / 100) train loss: 1.278498; val loss: 1.470781\n",
      "(Epoch 27 / 100) train loss: 1.267704; val loss: 1.468454\n",
      "(Epoch 28 / 100) train loss: 1.256216; val loss: 1.467604\n",
      "(Epoch 29 / 100) train loss: 1.245063; val loss: 1.467817\n",
      "(Epoch 30 / 100) train loss: 1.235376; val loss: 1.464133\n",
      "(Epoch 31 / 100) train loss: 1.225299; val loss: 1.461443\n",
      "(Epoch 32 / 100) train loss: 1.215288; val loss: 1.459263\n",
      "(Epoch 33 / 100) train loss: 1.205310; val loss: 1.462938\n",
      "(Epoch 34 / 100) train loss: 1.195964; val loss: 1.457744\n",
      "(Epoch 35 / 100) train loss: 1.186991; val loss: 1.458056\n",
      "(Epoch 36 / 100) train loss: 1.177168; val loss: 1.456252\n",
      "(Epoch 37 / 100) train loss: 1.168241; val loss: 1.452744\n",
      "(Epoch 38 / 100) train loss: 1.158979; val loss: 1.456854\n",
      "(Epoch 39 / 100) train loss: 1.150631; val loss: 1.452333\n",
      "(Epoch 40 / 100) train loss: 1.141765; val loss: 1.453630\n",
      "(Epoch 41 / 100) train loss: 1.133139; val loss: 1.455421\n",
      "(Epoch 42 / 100) train loss: 1.124065; val loss: 1.454736\n",
      "(Epoch 43 / 100) train loss: 1.116575; val loss: 1.455463\n",
      "(Epoch 44 / 100) train loss: 1.107990; val loss: 1.454563\n",
      "Stopping early at epoch 43!\n",
      "\n",
      "Evaluating Config #5 [of 5]:\n",
      " {'learning_rate': 0.0003474561194886823, 'reg': 1.628803504585291e-08, 'loss_func': <exercise_code.networks.loss.CrossEntropyFromLogits object at 0x00000198C36F1730>, 'momentum': 0.9842335130663137, 'num_layer': 2, 'hidden_dim': 217, 'batch_size': 475, 'activation': <exercise_code.networks.layer.Relu object at 0x00000198C36F10A0>}\n",
      "(Epoch 1 / 100) train loss: 2.302606; val loss: 2.302606\n",
      "(Epoch 2 / 100) train loss: 1.936643; val loss: 1.767719\n",
      "(Epoch 3 / 100) train loss: 1.687926; val loss: 1.661678\n",
      "(Epoch 4 / 100) train loss: 1.585272; val loss: 1.595006\n",
      "(Epoch 5 / 100) train loss: 1.514490; val loss: 1.555133\n",
      "(Epoch 6 / 100) train loss: 1.463080; val loss: 1.530247\n",
      "(Epoch 7 / 100) train loss: 1.417193; val loss: 1.506534\n",
      "(Epoch 8 / 100) train loss: 1.378746; val loss: 1.495227\n",
      "(Epoch 9 / 100) train loss: 1.343174; val loss: 1.480394\n",
      "(Epoch 10 / 100) train loss: 1.310548; val loss: 1.468711\n",
      "(Epoch 11 / 100) train loss: 1.280769; val loss: 1.465919\n",
      "(Epoch 12 / 100) train loss: 1.255728; val loss: 1.466500\n",
      "(Epoch 13 / 100) train loss: 1.231342; val loss: 1.459142\n",
      "(Epoch 14 / 100) train loss: 1.205104; val loss: 1.461784\n",
      "(Epoch 15 / 100) train loss: 1.182159; val loss: 1.461771\n",
      "(Epoch 16 / 100) train loss: 1.159551; val loss: 1.458261\n",
      "(Epoch 17 / 100) train loss: 1.137864; val loss: 1.459081\n",
      "(Epoch 18 / 100) train loss: 1.115694; val loss: 1.471211\n",
      "(Epoch 19 / 100) train loss: 1.095953; val loss: 1.460972\n",
      "(Epoch 20 / 100) train loss: 1.084126; val loss: 1.467620\n",
      "(Epoch 21 / 100) train loss: 1.057044; val loss: 1.481555\n",
      "Stopping early at epoch 20!\n",
      "\n",
      "Search done. Best Val Loss = 1.4508028476577526\n",
      "Best Config: {'learning_rate': 0.00014947039914461172, 'reg': 5.8289205641174615e-08, 'loss_func': <exercise_code.networks.loss.CrossEntropyFromLogits object at 0x00000198C36F1730>, 'momentum': 0.9817573586726714, 'num_layer': 2, 'hidden_dim': 283, 'batch_size': 459, 'activation': <exercise_code.networks.layer.LeakyRelu object at 0x00000198C36F1D30>}\n"
     ]
    }
   ],
   "source": [
    "# from exercise_code.networks import MyOwnNetwork\n",
    "from exercise_code.hyperparameter_tuning import random_search\n",
    "from exercise_code.networks.loss import BCE, MSE, L1\n",
    "from exercise_code.networks.optimizer import SGD, Adam, sgd_momentum\n",
    "\n",
    "#best_model = ClassificationNet\n",
    "best_model = MyOwnNetwork\n",
    "\n",
    "best_model, best_config, results  = random_search(\n",
    "    dataloaders['train'], dataloaders['val'],\n",
    "    random_search_spaces = {\n",
    "        \"learning_rate\": ([1e-2, 1e-5], \"log\"),\n",
    "        \"reg\": ([1e-4, 1e-8], \"log\"),\n",
    "        \"loss_func\": ([CrossEntropyFromLogits()], \"item\"),\n",
    "        # \"optimizer\": ([Adam()], \"item\"),\n",
    "        \"momentum\": ([0.9, 0.99], \"log\"),\n",
    "        \"num_layer\": ([2], \"int\"),\n",
    "        \"hidden_dim\": ([50, 500], \"int\"),\n",
    "        \"batch_size\": ([64, 512], \"int\"),\n",
    "        \"activation\": ([LeakyRelu(0.01),Relu(), LeakyRelu(0.1)], \"item\")\n",
    "        # \"epochs\": ([10, 20], \"item\"),\n",
    "        # \"patience\": ([5, 10], \"item\")\n",
    "        \n",
    "    },\n",
    "    model_class=best_model,\n",
    "    num_search = 60, epochs=20, patience=5)\n",
    "\n",
    "# best_model = ClassificationNet(num_layer=2, reg=0.0001, hidden_dim=500, activation=LeakyRelu(0.01), momentum=0.9, batch_size=512)\n",
    "########################################################################\n",
    "#                           END OF YOUR CODE                           #\n",
    "########################################################################"
   ]
  },
  {
   "cell_type": "markdown",
   "metadata": {
    "id": "gmZbWaaIN5er"
   },
   "source": [
    "Now it's time to edit the ranges above and adjust them to explore regions that performed well!\n",
    "\n",
    "Also, feel free to experiment around. Other hyperparameters you can change are the network architecture, optimizer, activations functions and many more.\n",
    "\n",
    "Try to get an accuracy as high as possible, since that's all what counts for this submission!\n",
    "\n",
    "You'll pass if you reach at least **48%** accuracy on our test set - but there will also be a leaderboard of all students of this course. Can you make it to the top?"
   ]
  },
  {
   "cell_type": "markdown",
   "metadata": {
    "id": "mJZ7UXHeN5er"
   },
   "source": [
    "## 3.5 Checking the validation accuracy"
   ]
  },
  {
   "cell_type": "code",
   "execution_count": 29,
   "metadata": {
    "colab": {
     "background_save": true
    },
    "id": "qPyHczNJN5er",
    "outputId": "7cbc0fbb-2d6e-49a1-d518-83e2260ea339"
   },
   "outputs": [
    {
     "name": "stdout",
     "output_type": "stream",
     "text": [
      "Train Accuracy: 63.581730769230774%\n",
      "Validation Accuracy: 50.45072115384615%\n"
     ]
    }
   ],
   "source": [
    "labels, pred, acc = best_model.get_dataset_prediction(dataloaders['train'])\n",
    "print(\"Train Accuracy: {}%\".format(acc*100))\n",
    "labels, pred, acc = best_model.get_dataset_prediction(dataloaders['val'])\n",
    "print(\"Validation Accuracy: {}%\".format(acc*100))"
   ]
  },
  {
   "cell_type": "markdown",
   "metadata": {
    "id": "MQ_AGtp8N5er"
   },
   "source": [
    "# 4. Test your model\n",
    "When you have finished the hyperparameter tuning and you found your final model which performs well on the validation set (**you should at least get 48% accuracy on the validation set!**), it's time to run your model on the test set.\n",
    "\n",
    "<div class=\"alert alert-danger\">\n",
    "    <h3>Important</h3>\n",
    "    <p>As you have learned in the lecture, you must only use the test set once! So only run the next cell if you are completely sure that your model works well enough and that you are ready to submit. Your test set is different from the test set on our server, so results may vary a bit. Nevertheless, you will get a reasonable approximation of your model's performance if you perform the final evaluation on the test set only once.</p>\n",
    "    <p>If you are an external student that can't use our submission webpage: this test performance is your final result and if you surpassed the threshold, you have completed this exercise :). Now, train again to aim for a better number!</p>\n",
    "</div>"
   ]
  },
  {
   "cell_type": "code",
   "execution_count": 30,
   "metadata": {
    "colab": {
     "background_save": true
    },
    "id": "xJ2lwiVUN5er",
    "outputId": "82f45e2a-7357-4444-d8c7-2296b7f6cb68"
   },
   "outputs": [
    {
     "name": "stdout",
     "output_type": "stream",
     "text": [
      "Test Accuracy: 49.48918269230769%\n"
     ]
    }
   ],
   "source": [
    "# comment this part out to see your model's performance on the test set.\n",
    "labels, pred, acc = best_model.get_dataset_prediction(dataloaders['test'])\n",
    "print(\"Test Accuracy: {}%\".format(acc*100))\n"
   ]
  },
  {
   "cell_type": "markdown",
   "metadata": {
    "id": "K3MBnG7qN5er"
   },
   "source": [
    "<div class=\"alert alert-warning\">\n",
    "    <h3>Note:</h3>\n",
    "    <p>The \"real\" test set is actually the dataset we're using for testing your model, which is <b>different</b> from the test-set you're using here.</p>\n",
    "</div>"
   ]
  },
  {
   "cell_type": "markdown",
   "metadata": {
    "id": "2lOy_GulN5es"
   },
   "source": [
    "# 5. Saving your Model"
   ]
  },
  {
   "cell_type": "code",
   "execution_count": 31,
   "metadata": {
    "colab": {
     "background_save": true
    },
    "id": "icgNMAlEN5es"
   },
   "outputs": [],
   "source": [
    "from exercise_code.tests import save_pickle\n",
    "save_pickle({\"cifar_fcn\": best_model}, \"cifar_fcn.p\")"
   ]
  },
  {
   "cell_type": "code",
   "execution_count": 32,
   "metadata": {
    "colab": {
     "background_save": true
    },
    "id": "Gd4TchGlN5es",
    "outputId": "b913c1bd-b861-47bb-c257-b30fa214e761"
   },
   "outputs": [
    {
     "name": "stdout",
     "output_type": "stream",
     "text": [
      "relevant folders: ['exercise_code', 'models']\n",
      "notebooks files: ['1_cifar10_classification.ipynb']\n",
      "Adding folder exercise_code\n",
      "Adding folder models\n",
      "Adding notebook 1_cifar10_classification.ipynb\n",
      "Zipping successful! Zip is stored under: d:\\samyeli\\Desktop\\M\\WS22\\IN2346\\Exercises\\i2dl\\output\\exercise_06.zip\n"
     ]
    }
   ],
   "source": [
    "from exercise_code.submit import submit_exercise\n",
    "\n",
    "submit_exercise('../output/exercise_06')"
   ]
  },
  {
   "cell_type": "markdown",
   "metadata": {
    "id": "q5C_bKa5N5es"
   },
   "source": [
    "# 6. Submission Instructions\n",
    "\n",
    "Congratulations! You've just built your first image classifier! To complete the exercise, submit your final model to our submission portal - you probably know the procedure by now.\n",
    "\n",
    "1. Go on [our submission page](https://i2dl.vc.in.tum.de/submission/), register for an account and login. We use your matriculation number and send you an email with the login details to the associated mail account. When in doubt, login into tum-online and check your mails there. You will get an id which we'll need in the next step.\n",
    "2. Log into [our submission page](https://i2dl.vc.in.tum.de/submission/), with your account details and upload the zip file.\n",
    "3. Your submission will be evaluated by our system and you will get feedback about the performance of it. You will get an email with your score, as well as a message if you have surpassed the threshold or not.\n",
    "4. Within the working period, you can submit as many solutions as you want to get the best possible score.\n",
    "\n",
    "\n",
    "# 7. Submission Goals\n",
    "\n",
    "- Goal: Successfully implement a fully connected NN image classifier and tune the hyperparameters.\n",
    "\n",
    "- Passing Criteria: This time, there are no unit tests checking specific components of your code. To  pass the submission your model needs to reach at least **48% accuracy** on __our__ test dataset. The submission system will show you a number between 0 and 100 which corresponds to your accuracy.\n",
    "\n",
    "- Submission start: __December 1st, 2022 13:00__\n",
    "- Submission deadline : __December 7th, 2022 15:59__ \n",
    "- You can make **$\\infty$** submissions until the deadline. Your __best submission__ will be considered for the bonus."
   ]
  },
  {
   "cell_type": "markdown",
   "metadata": {},
   "source": [
    "# [Exercise Review](https://forms.gle/9SYivCPQZdktRDS29)\n",
    "We are always interested in your opinion. Now that you have finished this exercise, we would like you to give us some feedback about the time required to finish the submission and/or work through the notebooks. Please take the short time to fill out our [review form](https://forms.gle/9SYivCPQZdktRDS29) for this exercise so that we can do better next time! :)"
   ]
  }
 ],
 "metadata": {
  "colab": {
   "collapsed_sections": [
    "WKNRU4BWN5eg",
    "3MhxqP2LN5ej",
    "dbFSP4z9N5ek",
    "0TE2PxMBN5ek",
    "QUFotyERN5ek",
    "l0pZa4weN5eo",
    "rDyeiAN1N5ep",
    "DCaACnn3N5eq",
    "P8wWTovfN5eq",
    "mJZ7UXHeN5er"
   ],
   "name": "1.cifar10_classification.ipynb",
   "provenance": []
  },
  "kernelspec": {
   "display_name": "Python 3.10.8 64-bit",
   "language": "python",
   "name": "python3"
  },
  "language_info": {
   "codemirror_mode": {
    "name": "ipython",
    "version": 3
   },
   "file_extension": ".py",
   "mimetype": "text/x-python",
   "name": "python",
   "nbconvert_exporter": "python",
   "pygments_lexer": "ipython3",
   "version": "3.10.8 (tags/v3.10.8:aaaf517, Oct 11 2022, 16:50:30) [MSC v.1933 64 bit (AMD64)]"
  },
  "vscode": {
   "interpreter": {
    "hash": "c2ece17232a812cdc7d1f83cec9755c59779f4a9fdd58c69824919b136082647"
   }
  }
 },
 "nbformat": 4,
 "nbformat_minor": 1
}
